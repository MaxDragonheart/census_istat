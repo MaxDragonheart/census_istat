{
 "cells": [
  {
   "cell_type": "code",
   "execution_count": 1,
   "metadata": {
    "collapsed": true
   },
   "outputs": [
    {
     "data": {
      "text/plain": "PosixPath('/home/max/Desktop/census_istat/output/census_1991/data')"
     },
     "execution_count": 1,
     "metadata": {},
     "output_type": "execute_result"
    }
   ],
   "source": [
    "from pathlib import Path\n",
    "\n",
    "import pandas as pd\n",
    "\n",
    "data_path = Path('/home/max/Desktop/census_istat/output/census_1991/data')\n",
    "data_path"
   ]
  },
  {
   "cell_type": "code",
   "execution_count": 3,
   "outputs": [
    {
     "data": {
      "text/plain": "[PosixPath('/home/max/Desktop/census_istat/output/census_1991/data/dati-cpa_1991\\\\R19_DatiCPA_1991.xls'),\n PosixPath('/home/max/Desktop/census_istat/output/census_1991/data/dati-cpa_1991\\\\R16_DatiCPA_1991.xls'),\n PosixPath('/home/max/Desktop/census_istat/output/census_1991/data/dati-cpa_1991\\\\R05_DatiCPA_1991.xls'),\n PosixPath('/home/max/Desktop/census_istat/output/census_1991/data/dati-cpa_1991\\\\R12_DatiCPA_1991.xls'),\n PosixPath('/home/max/Desktop/census_istat/output/census_1991/data/dati-cpa_1991\\\\R18_DatiCPA_1991.xls'),\n PosixPath('/home/max/Desktop/census_istat/output/census_1991/data/dati-cpa_1991\\\\R13_DatiCPA_1991.xls'),\n PosixPath('/home/max/Desktop/census_istat/output/census_1991/data/dati-cpa_1991\\\\R07_DatiCPA_1991.xls'),\n PosixPath('/home/max/Desktop/census_istat/output/census_1991/data/dati-cpa_1991\\\\R10_DatiCPA_1991.xls'),\n PosixPath('/home/max/Desktop/census_istat/output/census_1991/data/dati-cpa_1991\\\\R01_DatiCPA_1991.xls'),\n PosixPath('/home/max/Desktop/census_istat/output/census_1991/data/dati-cpa_1991\\\\R15_DatiCPA_1991.xls'),\n PosixPath('/home/max/Desktop/census_istat/output/census_1991/data/dati-cpa_1991\\\\R14_DatiCPA_1991.xls'),\n PosixPath('/home/max/Desktop/census_istat/output/census_1991/data/dati-cpa_1991\\\\R04_DatiCPA_1991.xls'),\n PosixPath('/home/max/Desktop/census_istat/output/census_1991/data/dati-cpa_1991\\\\R08_DatiCPA_1991.xls'),\n PosixPath('/home/max/Desktop/census_istat/output/census_1991/data/dati-cpa_1991\\\\R03_DatiCPA_1991.xls'),\n PosixPath('/home/max/Desktop/census_istat/output/census_1991/data/dati-cpa_1991\\\\R09_DatiCPA_1991.xls'),\n PosixPath('/home/max/Desktop/census_istat/output/census_1991/data/dati-cpa_1991\\\\R06_DatiCPA_1991.xls'),\n PosixPath('/home/max/Desktop/census_istat/output/census_1991/data/dati-cpa_1991\\\\R11_DatiCPA_1991.xls'),\n PosixPath('/home/max/Desktop/census_istat/output/census_1991/data/dati-cpa_1991\\\\R02_DatiCPA_1991.xls'),\n PosixPath('/home/max/Desktop/census_istat/output/census_1991/data/dati-cpa_1991\\\\R20_DatiCPA_1991.xls'),\n PosixPath('/home/max/Desktop/census_istat/output/census_1991/data/dati-cpa_1991\\\\R17_DatiCPA_1991.xls')]"
     },
     "execution_count": 3,
     "metadata": {},
     "output_type": "execute_result"
    }
   ],
   "source": [
    "census = list(data_path.rglob(\"*.xls\"))\n",
    "census"
   ],
   "metadata": {
    "collapsed": false
   }
  },
  {
   "cell_type": "code",
   "execution_count": 5,
   "outputs": [],
   "source": [
    "import pandas as pd\n",
    "\n",
    "# for region in census:\n",
    "#     print(region)\n",
    "#     df = pd.read_excel()\n",
    "#\n",
    "#\n",
    "#     break"
   ],
   "metadata": {
    "collapsed": false
   }
  },
  {
   "cell_type": "code",
   "execution_count": 8,
   "outputs": [
    {
     "data": {
      "text/plain": "Sheet  0:<R19_DatiCPA>"
     },
     "execution_count": 8,
     "metadata": {},
     "output_type": "execute_result"
    }
   ],
   "source": [
    "import xlrd\n",
    "\n",
    "region = census[0]\n",
    "\n",
    "read_data = xlrd.open_workbook(region)\n",
    "get_sheet = read_data.sheet_by_name('R19_DatiCPA')\n",
    "get_sheet"
   ],
   "metadata": {
    "collapsed": false
   }
  },
  {
   "cell_type": "code",
   "execution_count": 17,
   "outputs": [
    {
     "name": "stderr",
     "output_type": "stream",
     "text": [
      "100%|██████████| 27546/27546 [00:00<00:00, 189032.52it/s]\n"
     ]
    }
   ],
   "source": [
    "from tqdm import tqdm\n",
    "\n",
    "census_data = []\n",
    "\n",
    "for row_id in tqdm(range(get_sheet.nrows)):\n",
    "    # print(row_id)\n",
    "    # print(get_sheet.row_values(row_id))\n",
    "    census_data.append(get_sheet.row_values(row_id))\n",
    "\n",
    "\n",
    "    #break"
   ],
   "metadata": {
    "collapsed": false
   }
  },
  {
   "cell_type": "code",
   "execution_count": 19,
   "outputs": [
    {
     "ename": "AttributeError",
     "evalue": "'list' object has no attribute 'lower'",
     "output_type": "error",
     "traceback": [
      "\u001B[0;31m---------------------------------------------------------------------------\u001B[0m",
      "\u001B[0;31mAttributeError\u001B[0m                            Traceback (most recent call last)",
      "Cell \u001B[0;32mIn[19], line 2\u001B[0m\n\u001B[1;32m      1\u001B[0m df_columns \u001B[38;5;241m=\u001B[39m census_data[\u001B[38;5;241m0\u001B[39m]\n\u001B[0;32m----> 2\u001B[0m \u001B[43mdf_columns\u001B[49m\u001B[38;5;241;43m.\u001B[39;49m\u001B[43mlower\u001B[49m()\n",
      "\u001B[0;31mAttributeError\u001B[0m: 'list' object has no attribute 'lower'"
     ]
    }
   ],
   "source": [
    "df_columns = census_data[0]\n",
    "df_columns.lower()"
   ],
   "metadata": {
    "collapsed": false
   }
  }
 ],
 "metadata": {
  "kernelspec": {
   "display_name": "Python 3",
   "language": "python",
   "name": "python3"
  },
  "language_info": {
   "codemirror_mode": {
    "name": "ipython",
    "version": 2
   },
   "file_extension": ".py",
   "mimetype": "text/x-python",
   "name": "python",
   "nbconvert_exporter": "python",
   "pygments_lexer": "ipython2",
   "version": "2.7.6"
  }
 },
 "nbformat": 4,
 "nbformat_minor": 0
}
