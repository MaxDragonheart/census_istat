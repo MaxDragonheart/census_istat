{
 "cells": [
  {
   "cell_type": "code",
   "execution_count": 1,
   "metadata": {
    "collapsed": true
   },
   "outputs": [
    {
     "data": {
      "text/plain": "(PosixPath('/home/max/Desktop/census_istat'),\n PosixPath('/home/max/Desktop/census_istat/output'))"
     },
     "execution_count": 1,
     "metadata": {},
     "output_type": "execute_result"
    }
   ],
   "source": [
    "import pandas as pd\n",
    "\n",
    "from census_istat.config import MAIN_PATH, OUTPUT_FOLDER\n",
    "MAIN_PATH, OUTPUT_FOLDER"
   ]
  },
  {
   "cell_type": "code",
   "execution_count": 2,
   "outputs": [
    {
     "data": {
      "text/plain": "PosixPath('/home/max/Desktop/census_istat/output/preprocessing')"
     },
     "execution_count": 2,
     "metadata": {},
     "output_type": "execute_result"
    }
   ],
   "source": [
    "data_folder = OUTPUT_FOLDER.joinpath('preprocessing')\n",
    "data_folder"
   ],
   "metadata": {
    "collapsed": false
   }
  },
  {
   "cell_type": "code",
   "execution_count": 5,
   "outputs": [
    {
     "data": {
      "text/plain": "[PosixPath('/home/max/Desktop/census_istat/output/census_2011/data/Sezioni di Censimento/R16_indicatori_2011_sezioni.csv'),\n PosixPath('/home/max/Desktop/census_istat/output/census_2011/data/Sezioni di Censimento/R13_indicatori_2011_sezioni.csv'),\n PosixPath('/home/max/Desktop/census_istat/output/census_2011/data/Sezioni di Censimento/R19_indicatori_2011_sezioni.csv'),\n PosixPath('/home/max/Desktop/census_istat/output/census_2011/data/Sezioni di Censimento/R12_indicatori_2011_sezioni.csv'),\n PosixPath('/home/max/Desktop/census_istat/output/census_2011/data/Sezioni di Censimento/R01_indicatori_2011_sezioni.csv'),\n PosixPath('/home/max/Desktop/census_istat/output/census_2011/data/Sezioni di Censimento/R04_indicatori_2011_sezioni.csv'),\n PosixPath('/home/max/Desktop/census_istat/output/census_2011/data/Sezioni di Censimento/R05_indicatori_2011_sezioni.csv'),\n PosixPath('/home/max/Desktop/census_istat/output/census_2011/data/Sezioni di Censimento/R11_indicatori_2011_sezioni.csv'),\n PosixPath('/home/max/Desktop/census_istat/output/census_2011/data/Sezioni di Censimento/R20_indicatori_2011_sezioni.csv'),\n PosixPath('/home/max/Desktop/census_istat/output/census_2011/data/Sezioni di Censimento/R17_indicatori_2011_sezioni.csv'),\n PosixPath('/home/max/Desktop/census_istat/output/census_2011/data/Sezioni di Censimento/R02_indicatori_2011_sezioni.csv'),\n PosixPath('/home/max/Desktop/census_istat/output/census_2011/data/Sezioni di Censimento/R18_indicatori_2011_sezioni.csv'),\n PosixPath('/home/max/Desktop/census_istat/output/census_2011/data/Sezioni di Censimento/R08_indicatori_2011_sezioni.csv'),\n PosixPath('/home/max/Desktop/census_istat/output/census_2011/data/Sezioni di Censimento/R09_indicatori_2011_sezioni.csv'),\n PosixPath('/home/max/Desktop/census_istat/output/census_2011/data/Sezioni di Censimento/R06_indicatori_2011_sezioni.csv'),\n PosixPath('/home/max/Desktop/census_istat/output/census_2011/data/Sezioni di Censimento/R03_indicatori_2011_sezioni.csv'),\n PosixPath('/home/max/Desktop/census_istat/output/census_2011/data/Sezioni di Censimento/R15_indicatori_2011_sezioni.csv'),\n PosixPath('/home/max/Desktop/census_istat/output/census_2011/data/Sezioni di Censimento/R14_indicatori_2011_sezioni.csv'),\n PosixPath('/home/max/Desktop/census_istat/output/census_2011/data/Sezioni di Censimento/R10_indicatori_2011_sezioni.csv'),\n PosixPath('/home/max/Desktop/census_istat/output/census_2011/data/Sezioni di Censimento/R07_indicatori_2011_sezioni.csv')]"
     },
     "execution_count": 5,
     "metadata": {},
     "output_type": "execute_result"
    }
   ],
   "source": [
    "from pathlib import Path\n",
    "\n",
    "data_path = Path('/home/max/Desktop/census_istat/output/census_2011/data/Sezioni di Censimento')\n",
    "file_list = list(data_path.rglob(\"*\"))\n",
    "file_list"
   ],
   "metadata": {
    "collapsed": false
   }
  },
  {
   "cell_type": "code",
   "execution_count": null,
   "outputs": [],
   "source": [
    "csv_1991 = data_path.joinpath('check_metadata_1991.csv')\n",
    "csv_2001 = data_path.joinpath('check_metadata_2001.csv')\n",
    "csv_2011 = data_path.joinpath('tracciato_2011_sezioni.csv')\n",
    "csv_1991, csv_2001, csv_2011"
   ],
   "metadata": {
    "collapsed": false
   }
  },
  {
   "cell_type": "code",
   "execution_count": null,
   "outputs": [],
   "source": [],
   "metadata": {
    "collapsed": false
   }
  }
 ],
 "metadata": {
  "kernelspec": {
   "display_name": "Python 3",
   "language": "python",
   "name": "python3"
  },
  "language_info": {
   "codemirror_mode": {
    "name": "ipython",
    "version": 2
   },
   "file_extension": ".py",
   "mimetype": "text/x-python",
   "name": "python",
   "nbconvert_exporter": "python",
   "pygments_lexer": "ipython2",
   "version": "2.7.6"
  }
 },
 "nbformat": 4,
 "nbformat_minor": 0
}
