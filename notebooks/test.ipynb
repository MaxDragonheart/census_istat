{
 "cells": [
  {
   "cell_type": "code",
   "execution_count": 2,
   "metadata": {
    "collapsed": true
   },
   "outputs": [
    {
     "ename": "TypeError",
     "evalue": "expected str, bytes or os.PathLike object, not NoneType",
     "output_type": "error",
     "traceback": [
      "\u001B[0;31m---------------------------------------------------------------------------\u001B[0m",
      "\u001B[0;31mTypeError\u001B[0m                                 Traceback (most recent call last)",
      "Cell \u001B[0;32mIn[2], line 1\u001B[0m\n\u001B[0;32m----> 1\u001B[0m \u001B[38;5;28;01mfrom\u001B[39;00m \u001B[38;5;21;01mconfig\u001B[39;00m \u001B[38;5;28;01mimport\u001B[39;00m main_path\n\u001B[1;32m      3\u001B[0m main_path\n",
      "File \u001B[0;32m~/DEV/mio/census_istat/config.py:13\u001B[0m\n\u001B[1;32m     10\u001B[0m logger\u001B[38;5;241m.\u001B[39maddHandler(console_handler)\n\u001B[1;32m     12\u001B[0m DATA_PATH \u001B[38;5;241m=\u001B[39m os\u001B[38;5;241m.\u001B[39mgetenv(\u001B[38;5;124m\"\u001B[39m\u001B[38;5;124mDATA_PATH\u001B[39m\u001B[38;5;124m\"\u001B[39m)\n\u001B[0;32m---> 13\u001B[0m main_path \u001B[38;5;241m=\u001B[39m \u001B[43mPath\u001B[49m\u001B[43m(\u001B[49m\u001B[43mDATA_PATH\u001B[49m\u001B[43m)\u001B[49m\n",
      "File \u001B[0;32m/usr/lib/python3.8/pathlib.py:1042\u001B[0m, in \u001B[0;36mPath.__new__\u001B[0;34m(cls, *args, **kwargs)\u001B[0m\n\u001B[1;32m   1040\u001B[0m \u001B[38;5;28;01mif\u001B[39;00m \u001B[38;5;28mcls\u001B[39m \u001B[38;5;129;01mis\u001B[39;00m Path:\n\u001B[1;32m   1041\u001B[0m     \u001B[38;5;28mcls\u001B[39m \u001B[38;5;241m=\u001B[39m WindowsPath \u001B[38;5;28;01mif\u001B[39;00m os\u001B[38;5;241m.\u001B[39mname \u001B[38;5;241m==\u001B[39m \u001B[38;5;124m'\u001B[39m\u001B[38;5;124mnt\u001B[39m\u001B[38;5;124m'\u001B[39m \u001B[38;5;28;01melse\u001B[39;00m PosixPath\n\u001B[0;32m-> 1042\u001B[0m \u001B[38;5;28mself\u001B[39m \u001B[38;5;241m=\u001B[39m \u001B[38;5;28;43mcls\u001B[39;49m\u001B[38;5;241;43m.\u001B[39;49m\u001B[43m_from_parts\u001B[49m\u001B[43m(\u001B[49m\u001B[43margs\u001B[49m\u001B[43m,\u001B[49m\u001B[43m \u001B[49m\u001B[43minit\u001B[49m\u001B[38;5;241;43m=\u001B[39;49m\u001B[38;5;28;43;01mFalse\u001B[39;49;00m\u001B[43m)\u001B[49m\n\u001B[1;32m   1043\u001B[0m \u001B[38;5;28;01mif\u001B[39;00m \u001B[38;5;129;01mnot\u001B[39;00m \u001B[38;5;28mself\u001B[39m\u001B[38;5;241m.\u001B[39m_flavour\u001B[38;5;241m.\u001B[39mis_supported:\n\u001B[1;32m   1044\u001B[0m     \u001B[38;5;28;01mraise\u001B[39;00m \u001B[38;5;167;01mNotImplementedError\u001B[39;00m(\u001B[38;5;124m\"\u001B[39m\u001B[38;5;124mcannot instantiate \u001B[39m\u001B[38;5;132;01m%r\u001B[39;00m\u001B[38;5;124m on your system\u001B[39m\u001B[38;5;124m\"\u001B[39m\n\u001B[1;32m   1045\u001B[0m                               \u001B[38;5;241m%\u001B[39m (\u001B[38;5;28mcls\u001B[39m\u001B[38;5;241m.\u001B[39m\u001B[38;5;18m__name__\u001B[39m,))\n",
      "File \u001B[0;32m/usr/lib/python3.8/pathlib.py:683\u001B[0m, in \u001B[0;36mPurePath._from_parts\u001B[0;34m(cls, args, init)\u001B[0m\n\u001B[1;32m    678\u001B[0m \u001B[38;5;129m@classmethod\u001B[39m\n\u001B[1;32m    679\u001B[0m \u001B[38;5;28;01mdef\u001B[39;00m \u001B[38;5;21m_from_parts\u001B[39m(\u001B[38;5;28mcls\u001B[39m, args, init\u001B[38;5;241m=\u001B[39m\u001B[38;5;28;01mTrue\u001B[39;00m):\n\u001B[1;32m    680\u001B[0m     \u001B[38;5;66;03m# We need to call _parse_args on the instance, so as to get the\u001B[39;00m\n\u001B[1;32m    681\u001B[0m     \u001B[38;5;66;03m# right flavour.\u001B[39;00m\n\u001B[1;32m    682\u001B[0m     \u001B[38;5;28mself\u001B[39m \u001B[38;5;241m=\u001B[39m \u001B[38;5;28mobject\u001B[39m\u001B[38;5;241m.\u001B[39m\u001B[38;5;21m__new__\u001B[39m(\u001B[38;5;28mcls\u001B[39m)\n\u001B[0;32m--> 683\u001B[0m     drv, root, parts \u001B[38;5;241m=\u001B[39m \u001B[38;5;28;43mself\u001B[39;49m\u001B[38;5;241;43m.\u001B[39;49m\u001B[43m_parse_args\u001B[49m\u001B[43m(\u001B[49m\u001B[43margs\u001B[49m\u001B[43m)\u001B[49m\n\u001B[1;32m    684\u001B[0m     \u001B[38;5;28mself\u001B[39m\u001B[38;5;241m.\u001B[39m_drv \u001B[38;5;241m=\u001B[39m drv\n\u001B[1;32m    685\u001B[0m     \u001B[38;5;28mself\u001B[39m\u001B[38;5;241m.\u001B[39m_root \u001B[38;5;241m=\u001B[39m root\n",
      "File \u001B[0;32m/usr/lib/python3.8/pathlib.py:667\u001B[0m, in \u001B[0;36mPurePath._parse_args\u001B[0;34m(cls, args)\u001B[0m\n\u001B[1;32m    665\u001B[0m     parts \u001B[38;5;241m+\u001B[39m\u001B[38;5;241m=\u001B[39m a\u001B[38;5;241m.\u001B[39m_parts\n\u001B[1;32m    666\u001B[0m \u001B[38;5;28;01melse\u001B[39;00m:\n\u001B[0;32m--> 667\u001B[0m     a \u001B[38;5;241m=\u001B[39m \u001B[43mos\u001B[49m\u001B[38;5;241;43m.\u001B[39;49m\u001B[43mfspath\u001B[49m\u001B[43m(\u001B[49m\u001B[43ma\u001B[49m\u001B[43m)\u001B[49m\n\u001B[1;32m    668\u001B[0m     \u001B[38;5;28;01mif\u001B[39;00m \u001B[38;5;28misinstance\u001B[39m(a, \u001B[38;5;28mstr\u001B[39m):\n\u001B[1;32m    669\u001B[0m         \u001B[38;5;66;03m# Force-cast str subclasses to str (issue #21127)\u001B[39;00m\n\u001B[1;32m    670\u001B[0m         parts\u001B[38;5;241m.\u001B[39mappend(\u001B[38;5;28mstr\u001B[39m(a))\n",
      "\u001B[0;31mTypeError\u001B[0m: expected str, bytes or os.PathLike object, not NoneType"
     ]
    }
   ],
   "source": [
    "from config import main_path\n",
    "\n",
    "main_path"
   ]
  },
  {
   "cell_type": "code",
   "execution_count": 3,
   "outputs": [
    {
     "ename": "NameError",
     "evalue": "name 'main_path' is not defined",
     "output_type": "error",
     "traceback": [
      "\u001B[0;31m---------------------------------------------------------------------------\u001B[0m",
      "\u001B[0;31mNameError\u001B[0m                                 Traceback (most recent call last)",
      "Cell \u001B[0;32mIn[3], line 1\u001B[0m\n\u001B[0;32m----> 1\u001B[0m csv_path \u001B[38;5;241m=\u001B[39m \u001B[43mmain_path\u001B[49m\u001B[38;5;241m.\u001B[39mjoinpath(\u001B[38;5;124m'\u001B[39m\u001B[38;5;124mtmp/csv\u001B[39m\u001B[38;5;124m'\u001B[39m)\n\u001B[1;32m      2\u001B[0m csv_path\n",
      "\u001B[0;31mNameError\u001B[0m: name 'main_path' is not defined"
     ]
    }
   ],
   "source": [
    "csv_path = main_path.joinpath('tmp/csv')\n",
    "csv_path"
   ],
   "metadata": {
    "collapsed": false
   }
  }
 ],
 "metadata": {
  "kernelspec": {
   "display_name": "Python 3",
   "language": "python",
   "name": "python3"
  },
  "language_info": {
   "codemirror_mode": {
    "name": "ipython",
    "version": 2
   },
   "file_extension": ".py",
   "mimetype": "text/x-python",
   "name": "python",
   "nbconvert_exporter": "python",
   "pygments_lexer": "ipython2",
   "version": "2.7.6"
  }
 },
 "nbformat": 4,
 "nbformat_minor": 0
}
