{
 "cells": [
  {
   "cell_type": "code",
   "execution_count": 7,
   "metadata": {
    "collapsed": true
   },
   "outputs": [
    {
     "data": {
      "text/plain": "(PosixPath('/home/max/Desktop/census_istat'),\n PosixPath('/home/max/Desktop/census_istat/output'))"
     },
     "execution_count": 7,
     "metadata": {},
     "output_type": "execute_result"
    }
   ],
   "source": [
    "import pandas as pd\n",
    "\n",
    "from census_istat.config import MAIN_PATH, OUTPUT_FOLDER\n",
    "MAIN_PATH, OUTPUT_FOLDER"
   ]
  },
  {
   "cell_type": "code",
   "execution_count": 8,
   "outputs": [
    {
     "data": {
      "text/plain": "PosixPath('/home/max/Desktop/census_istat/output/preprocessing')"
     },
     "execution_count": 8,
     "metadata": {},
     "output_type": "execute_result"
    }
   ],
   "source": [
    "data_folder = OUTPUT_FOLDER.joinpath('preprocessing')\n",
    "data_folder"
   ],
   "metadata": {
    "collapsed": false
   }
  },
  {
   "cell_type": "code",
   "execution_count": 9,
   "outputs": [
    {
     "data": {
      "text/plain": "(PosixPath('/home/max/Desktop/census_istat/output/preprocessing/check_metadata_1991.csv'),\n PosixPath('/home/max/Desktop/census_istat/output/preprocessing/check_metadata_2001.csv'),\n PosixPath('/home/max/Desktop/census_istat/output/preprocessing/tracciato_2011_sezioni.csv'))"
     },
     "execution_count": 9,
     "metadata": {},
     "output_type": "execute_result"
    }
   ],
   "source": [
    "csv_1991 = data_folder.joinpath('check_metadata_1991.csv')\n",
    "csv_2001 = data_folder.joinpath('check_metadata_2001.csv')\n",
    "csv_2011 = data_folder.joinpath('tracciato_2011_sezioni.csv')\n",
    "csv_1991, csv_2001, csv_2011"
   ],
   "metadata": {
    "collapsed": false
   }
  },
  {
   "cell_type": "code",
   "execution_count": 10,
   "outputs": [
    {
     "data": {
      "text/plain": "NOME_CAMPO                                              codreg  \\\nDEFINIZIONE  Codice numerico che identifica univocamente la...   \n\nNOME_CAMPO                       regione  \\\nDEFINIZIONE  Denominazione della regione   \n\nNOME_CAMPO                                              codpro  \\\nDEFINIZIONE  Codice numerico che identifica univocamente la...   \n\nNOME_CAMPO                       provincia  \\\nDEFINIZIONE  Denominazione della provincia   \n\nNOME_CAMPO                                              codcom  \\\nDEFINIZIONE  Codice numerico che identifica univocamente il...   \n\nNOME_CAMPO                     comune  \\\nDEFINIZIONE  Denominazione del comune   \n\nNOME_CAMPO                                              procom  \\\nDEFINIZIONE  Codice numerico che identifica univocamente il...   \n\nNOME_CAMPO                                             sez2011  \\\nDEFINIZIONE  Codice numerico che identifica univocamente la...   \n\nNOME_CAMPO                                                nsez  \\\nDEFINIZIONE  Numero che identifica univocamente la sezione ...   \n\nNOME_CAMPO                                                 ace  ...  \\\nDEFINIZIONE  Numero che identifica univocamente l'area di c...  ...   \n\nNOME_CAMPO                                         e22  \\\nDEFINIZIONE  Edifici ad uso residenziale con 2 interni   \n\nNOME_CAMPO                                            e23  \\\nDEFINIZIONE  Edifici ad uso residenziale da 3 a 4 interni   \n\nNOME_CAMPO                                            e24  \\\nDEFINIZIONE  Edifici ad uso residenziale da 5 a 8 interni   \n\nNOME_CAMPO                                             e25  \\\nDEFINIZIONE  Edifici ad uso residenziale da 9 a 15 interni   \n\nNOME_CAMPO                                                e26  \\\nDEFINIZIONE  Edifici ad uso residenziale con 16 interni o pi�   \n\nNOME_CAMPO                                             e27  \\\nDEFINIZIONE  Totale interni in edifici ad uso residenziale   \n\nNOME_CAMPO                                                 e28  \\\nDEFINIZIONE  Edifici ad uso residenziale con stato di conse...   \n\nNOME_CAMPO                                                 e29  \\\nDEFINIZIONE  Edifici ad uso residenziale con stato di conse...   \n\nNOME_CAMPO                                                 e30  \\\nDEFINIZIONE  Edifici ad uso residenziale con stato di conse...   \n\nNOME_CAMPO                                                 e31  \nDEFINIZIONE  Edifici ad uso residenziale con stato di conse...  \n\n[1 rows x 152 columns]",
      "text/html": "<div>\n<style scoped>\n    .dataframe tbody tr th:only-of-type {\n        vertical-align: middle;\n    }\n\n    .dataframe tbody tr th {\n        vertical-align: top;\n    }\n\n    .dataframe thead th {\n        text-align: right;\n    }\n</style>\n<table border=\"1\" class=\"dataframe\">\n  <thead>\n    <tr style=\"text-align: right;\">\n      <th>NOME_CAMPO</th>\n      <th>codreg</th>\n      <th>regione</th>\n      <th>codpro</th>\n      <th>provincia</th>\n      <th>codcom</th>\n      <th>comune</th>\n      <th>procom</th>\n      <th>sez2011</th>\n      <th>nsez</th>\n      <th>ace</th>\n      <th>...</th>\n      <th>e22</th>\n      <th>e23</th>\n      <th>e24</th>\n      <th>e25</th>\n      <th>e26</th>\n      <th>e27</th>\n      <th>e28</th>\n      <th>e29</th>\n      <th>e30</th>\n      <th>e31</th>\n    </tr>\n  </thead>\n  <tbody>\n    <tr>\n      <th>DEFINIZIONE</th>\n      <td>Codice numerico che identifica univocamente la...</td>\n      <td>Denominazione della regione</td>\n      <td>Codice numerico che identifica univocamente la...</td>\n      <td>Denominazione della provincia</td>\n      <td>Codice numerico che identifica univocamente il...</td>\n      <td>Denominazione del comune</td>\n      <td>Codice numerico che identifica univocamente il...</td>\n      <td>Codice numerico che identifica univocamente la...</td>\n      <td>Numero che identifica univocamente la sezione ...</td>\n      <td>Numero che identifica univocamente l'area di c...</td>\n      <td>...</td>\n      <td>Edifici ad uso residenziale con 2 interni</td>\n      <td>Edifici ad uso residenziale da 3 a 4 interni</td>\n      <td>Edifici ad uso residenziale da 5 a 8 interni</td>\n      <td>Edifici ad uso residenziale da 9 a 15 interni</td>\n      <td>Edifici ad uso residenziale con 16 interni o pi�</td>\n      <td>Totale interni in edifici ad uso residenziale</td>\n      <td>Edifici ad uso residenziale con stato di conse...</td>\n      <td>Edifici ad uso residenziale con stato di conse...</td>\n      <td>Edifici ad uso residenziale con stato di conse...</td>\n      <td>Edifici ad uso residenziale con stato di conse...</td>\n    </tr>\n  </tbody>\n</table>\n<p>1 rows × 152 columns</p>\n</div>"
     },
     "execution_count": 10,
     "metadata": {},
     "output_type": "execute_result"
    }
   ],
   "source": [
    "from census_istat.generic import check_encoding\n",
    "\n",
    "encoding_2011 = check_encoding(csv_2011)\n",
    "df_2011 = pd.read_csv(csv_2011, encoding=encoding_2011)\n",
    "df_2011.set_index('NOME_CAMPO', inplace=True)\n",
    "df_t = df_2011.transpose()\n",
    "df_t.columns = df_t.columns.str.lower()\n",
    "df_t"
   ],
   "metadata": {
    "collapsed": false
   }
  },
  {
   "cell_type": "code",
   "execution_count": 18,
   "outputs": [
    {
     "data": {
      "text/plain": "                 id           cod_pro        cod_com  \\\n0  R01_DatiCPA_2001  Codice Provincia  Codice Comune   \n\n                                             pro_com  \\\n0  Codice che identifica univocamente il 'comune'...   \n\n                                             sez2001  \\\n0  Codice che identifica univocamente la sezione ...   \n\n                                             sezione  \\\n0  Codice che identifica univocamente la sezione ...   \n\n                               p1                              p2  \\\n0  Popolazione residente - TOTALE  Popolazione residente - Maschi   \n\n                                p3                                     p4  \\\n0  Popolazione residente - Femmine  Popolazione residente - Celibi/nubili   \n\n   ...                            pf8  \\\n0  ...  Famiglie 6 e oltre componenti   \n\n                                                 pf9  \\\n0  Componenti delle famiglie residenti di 6 e olt...   \n\n                                     st01  \\\n0  Stranieri residenti in Italia - Europa   \n\n                                     st02  \\\n0  Stranieri residenti in Italia - Africa   \n\n                                      st03                        st04  \\\n0  Stranieri residenti in Italia - America  Stranieri in Italia - Asia   \n\n                            st05                         st06  \\\n0  Stranieri in Italia - Oceania  Apolidi residenti in Italia   \n\n                                     st07 sez1991  \n0  Stranieri residenti in Italia - Totale     NaN  \n\n[1 rows x 206 columns]",
      "text/html": "<div>\n<style scoped>\n    .dataframe tbody tr th:only-of-type {\n        vertical-align: middle;\n    }\n\n    .dataframe tbody tr th {\n        vertical-align: top;\n    }\n\n    .dataframe thead th {\n        text-align: right;\n    }\n</style>\n<table border=\"1\" class=\"dataframe\">\n  <thead>\n    <tr style=\"text-align: right;\">\n      <th></th>\n      <th>id</th>\n      <th>cod_pro</th>\n      <th>cod_com</th>\n      <th>pro_com</th>\n      <th>sez2001</th>\n      <th>sezione</th>\n      <th>p1</th>\n      <th>p2</th>\n      <th>p3</th>\n      <th>p4</th>\n      <th>...</th>\n      <th>pf8</th>\n      <th>pf9</th>\n      <th>st01</th>\n      <th>st02</th>\n      <th>st03</th>\n      <th>st04</th>\n      <th>st05</th>\n      <th>st06</th>\n      <th>st07</th>\n      <th>sez1991</th>\n    </tr>\n  </thead>\n  <tbody>\n    <tr>\n      <th>0</th>\n      <td>R01_DatiCPA_2001</td>\n      <td>Codice Provincia</td>\n      <td>Codice Comune</td>\n      <td>Codice che identifica univocamente il 'comune'...</td>\n      <td>Codice che identifica univocamente la sezione ...</td>\n      <td>Codice che identifica univocamente la sezione ...</td>\n      <td>Popolazione residente - TOTALE</td>\n      <td>Popolazione residente - Maschi</td>\n      <td>Popolazione residente - Femmine</td>\n      <td>Popolazione residente - Celibi/nubili</td>\n      <td>...</td>\n      <td>Famiglie 6 e oltre componenti</td>\n      <td>Componenti delle famiglie residenti di 6 e olt...</td>\n      <td>Stranieri residenti in Italia - Europa</td>\n      <td>Stranieri residenti in Italia - Africa</td>\n      <td>Stranieri residenti in Italia - America</td>\n      <td>Stranieri in Italia - Asia</td>\n      <td>Stranieri in Italia - Oceania</td>\n      <td>Apolidi residenti in Italia</td>\n      <td>Stranieri residenti in Italia - Totale</td>\n      <td>NaN</td>\n    </tr>\n  </tbody>\n</table>\n<p>1 rows × 206 columns</p>\n</div>"
     },
     "execution_count": 18,
     "metadata": {},
     "output_type": "execute_result"
    }
   ],
   "source": [
    "df_1991 = pd.read_csv(csv_1991)\n",
    "df_2001 = pd.read_csv(csv_2001)\n",
    "\n",
    "df_2001.head(1)"
   ],
   "metadata": {
    "collapsed": false
   }
  },
  {
   "cell_type": "code",
   "execution_count": 19,
   "outputs": [
    {
     "data": {
      "text/plain": "                           id           cod_pro        cod_com  \\\n0            R01_DatiCPA_1991  Codice Provincia  Codice Comune   \n0            R01_DatiCPA_2001  Codice Provincia  Codice Comune   \nDEFINIZIONE               NaN               NaN            NaN   \n\n                                                       pro_com  \\\n0            Codice che identifica univocamente il 'comune'...   \n0            Codice che identifica univocamente il 'comune'...   \nDEFINIZIONE                                                NaN   \n\n                                                       sez1991  \\\n0            Codice che identifica univocamente la sezione ...   \n0                                                          NaN   \nDEFINIZIONE                                                NaN   \n\n                                                       sezione  \\\n0            Codice che identifica univocamente la sezione ...   \n0            Codice che identifica univocamente la sezione ...   \nDEFINIZIONE                                                NaN   \n\n                                         p1                              p2  \\\n0            Popolazione residente - Totale  Popolazione residente - Maschi   \n0            Popolazione residente - TOTALE  Popolazione residente - Maschi   \nDEFINIZIONE  Popolazione residente - totale  Popolazione residente - maschi   \n\n                                          p3  \\\n0            Popolazione residente - Femmine   \n0            Popolazione residente - Femmine   \nDEFINIZIONE  Popolazione residente - femmine   \n\n                                                p4  ...  \\\n0            Popolazione residente - Maschi Celibi  ...   \n0            Popolazione residente - Celibi/nubili  ...   \nDEFINIZIONE  Popolazione residente - celibi/nubili  ...   \n\n                                                          a48  \\\n0                                                         NaN   \n0                                                         NaN   \nDEFINIZIONE  Famiglie che occupano l'alloggio ad altro titolo   \n\n                                                           e5  \\\n0                                                         NaN   \n0                                                         NaN   \nDEFINIZIONE  Edifici ad uso residenziale in muratura portante   \n\n                                                            e8  \\\n0                                                          NaN   \n0                                                          NaN   \nDEFINIZIONE  Edifici ad uso residenziale costruiti prima de...   \n\n                                                       e25  \\\n0                                                      NaN   \n0                                                      NaN   \nDEFINIZIONE  Edifici ad uso residenziale da 9 a 15 interni   \n\n                                                          e26  \\\n0                                                         NaN   \n0                                                         NaN   \nDEFINIZIONE  Edifici ad uso residenziale con 16 interni o pi�   \n\n                                                       e27  \\\n0                                                      NaN   \n0                                                      NaN   \nDEFINIZIONE  Totale interni in edifici ad uso residenziale   \n\n                                                           e28  \\\n0                                                          NaN   \n0                                                          NaN   \nDEFINIZIONE  Edifici ad uso residenziale con stato di conse...   \n\n                                                           e29  \\\n0                                                          NaN   \n0                                                          NaN   \nDEFINIZIONE  Edifici ad uso residenziale con stato di conse...   \n\n                                                           e30  \\\n0                                                          NaN   \n0                                                          NaN   \nDEFINIZIONE  Edifici ad uso residenziale con stato di conse...   \n\n                                                           e31  \n0                                                          NaN  \n0                                                          NaN  \nDEFINIZIONE  Edifici ad uso residenziale con stato di conse...  \n\n[3 rows x 286 columns]",
      "text/html": "<div>\n<style scoped>\n    .dataframe tbody tr th:only-of-type {\n        vertical-align: middle;\n    }\n\n    .dataframe tbody tr th {\n        vertical-align: top;\n    }\n\n    .dataframe thead th {\n        text-align: right;\n    }\n</style>\n<table border=\"1\" class=\"dataframe\">\n  <thead>\n    <tr style=\"text-align: right;\">\n      <th></th>\n      <th>id</th>\n      <th>cod_pro</th>\n      <th>cod_com</th>\n      <th>pro_com</th>\n      <th>sez1991</th>\n      <th>sezione</th>\n      <th>p1</th>\n      <th>p2</th>\n      <th>p3</th>\n      <th>p4</th>\n      <th>...</th>\n      <th>a48</th>\n      <th>e5</th>\n      <th>e8</th>\n      <th>e25</th>\n      <th>e26</th>\n      <th>e27</th>\n      <th>e28</th>\n      <th>e29</th>\n      <th>e30</th>\n      <th>e31</th>\n    </tr>\n  </thead>\n  <tbody>\n    <tr>\n      <th>0</th>\n      <td>R01_DatiCPA_1991</td>\n      <td>Codice Provincia</td>\n      <td>Codice Comune</td>\n      <td>Codice che identifica univocamente il 'comune'...</td>\n      <td>Codice che identifica univocamente la sezione ...</td>\n      <td>Codice che identifica univocamente la sezione ...</td>\n      <td>Popolazione residente - Totale</td>\n      <td>Popolazione residente - Maschi</td>\n      <td>Popolazione residente - Femmine</td>\n      <td>Popolazione residente - Maschi Celibi</td>\n      <td>...</td>\n      <td>NaN</td>\n      <td>NaN</td>\n      <td>NaN</td>\n      <td>NaN</td>\n      <td>NaN</td>\n      <td>NaN</td>\n      <td>NaN</td>\n      <td>NaN</td>\n      <td>NaN</td>\n      <td>NaN</td>\n    </tr>\n    <tr>\n      <th>0</th>\n      <td>R01_DatiCPA_2001</td>\n      <td>Codice Provincia</td>\n      <td>Codice Comune</td>\n      <td>Codice che identifica univocamente il 'comune'...</td>\n      <td>NaN</td>\n      <td>Codice che identifica univocamente la sezione ...</td>\n      <td>Popolazione residente - TOTALE</td>\n      <td>Popolazione residente - Maschi</td>\n      <td>Popolazione residente - Femmine</td>\n      <td>Popolazione residente - Celibi/nubili</td>\n      <td>...</td>\n      <td>NaN</td>\n      <td>NaN</td>\n      <td>NaN</td>\n      <td>NaN</td>\n      <td>NaN</td>\n      <td>NaN</td>\n      <td>NaN</td>\n      <td>NaN</td>\n      <td>NaN</td>\n      <td>NaN</td>\n    </tr>\n    <tr>\n      <th>DEFINIZIONE</th>\n      <td>NaN</td>\n      <td>NaN</td>\n      <td>NaN</td>\n      <td>NaN</td>\n      <td>NaN</td>\n      <td>NaN</td>\n      <td>Popolazione residente - totale</td>\n      <td>Popolazione residente - maschi</td>\n      <td>Popolazione residente - femmine</td>\n      <td>Popolazione residente - celibi/nubili</td>\n      <td>...</td>\n      <td>Famiglie che occupano l'alloggio ad altro titolo</td>\n      <td>Edifici ad uso residenziale in muratura portante</td>\n      <td>Edifici ad uso residenziale costruiti prima de...</td>\n      <td>Edifici ad uso residenziale da 9 a 15 interni</td>\n      <td>Edifici ad uso residenziale con 16 interni o pi�</td>\n      <td>Totale interni in edifici ad uso residenziale</td>\n      <td>Edifici ad uso residenziale con stato di conse...</td>\n      <td>Edifici ad uso residenziale con stato di conse...</td>\n      <td>Edifici ad uso residenziale con stato di conse...</td>\n      <td>Edifici ad uso residenziale con stato di conse...</td>\n    </tr>\n  </tbody>\n</table>\n<p>3 rows × 286 columns</p>\n</div>"
     },
     "execution_count": 19,
     "metadata": {},
     "output_type": "execute_result"
    }
   ],
   "source": [
    "df = pd.concat([df_1991.head(1), df_2001.head(1), df_t])\n",
    "df.to_csv(data_folder.joinpath('compare_1991_2001_2011.csv'))\n",
    "df"
   ],
   "metadata": {
    "collapsed": false
   }
  }
 ],
 "metadata": {
  "kernelspec": {
   "display_name": "Python 3",
   "language": "python",
   "name": "python3"
  },
  "language_info": {
   "codemirror_mode": {
    "name": "ipython",
    "version": 2
   },
   "file_extension": ".py",
   "mimetype": "text/x-python",
   "name": "python",
   "nbconvert_exporter": "python",
   "pygments_lexer": "ipython2",
   "version": "2.7.6"
  }
 },
 "nbformat": 4,
 "nbformat_minor": 0
}
