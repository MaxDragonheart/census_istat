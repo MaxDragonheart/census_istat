{
 "cells": [
  {
   "cell_type": "code",
   "execution_count": 3,
   "metadata": {
    "collapsed": true
   },
   "outputs": [
    {
     "data": {
      "text/plain": "(PosixPath('/home/max/Desktop/census_istat'),\n PosixPath('/home/max/Desktop/census_istat/output'))"
     },
     "execution_count": 3,
     "metadata": {},
     "output_type": "execute_result"
    }
   ],
   "source": [
    "from census_istat.config import MAIN_PATH, OUTPUT_FOLDER\n",
    "MAIN_PATH, OUTPUT_FOLDER"
   ]
  },
  {
   "cell_type": "code",
   "execution_count": 16,
   "outputs": [
    {
     "data": {
      "text/plain": "PosixPath('/home/max/Desktop/census_istat/output/census_2001/data')"
     },
     "execution_count": 16,
     "metadata": {},
     "output_type": "execute_result"
    }
   ],
   "source": [
    "year = 2001\n",
    "census_folder = OUTPUT_FOLDER.joinpath(f'census_{year}/data')\n",
    "census_folder"
   ],
   "metadata": {
    "collapsed": false
   }
  },
  {
   "cell_type": "code",
   "execution_count": 10,
   "outputs": [
    {
     "data": {
      "text/plain": "PosixPath('/home/max/Desktop/census_istat/output/census_1991/data/dati-cpa_1991\\\\R19_DatiCPA_1991.xls')"
     },
     "execution_count": 10,
     "metadata": {},
     "output_type": "execute_result"
    }
   ],
   "source": [
    "file = list(census_folder.rglob(\"*\"))[0]\n",
    "file"
   ],
   "metadata": {
    "collapsed": false
   }
  },
  {
   "cell_type": "code",
   "execution_count": 11,
   "outputs": [
    {
     "data": {
      "text/plain": "<xlrd.book.Book at 0x7f283f635130>"
     },
     "execution_count": 11,
     "metadata": {},
     "output_type": "execute_result"
    }
   ],
   "source": [
    "import xlrd\n",
    "\n",
    "read_data = xlrd.open_workbook(file)\n",
    "read_data"
   ],
   "metadata": {
    "collapsed": false
   }
  },
  {
   "cell_type": "code",
   "execution_count": 14,
   "outputs": [
    {
     "data": {
      "text/plain": "['R19_DatiCPA', 'Metadati']"
     },
     "execution_count": 14,
     "metadata": {},
     "output_type": "execute_result"
    }
   ],
   "source": [
    "read_data.sheet_names()"
   ],
   "metadata": {
    "collapsed": false
   }
  },
  {
   "cell_type": "code",
   "execution_count": 18,
   "outputs": [
    {
     "name": "stdout",
     "output_type": "stream",
     "text": [
      "['R03_DatiCPA', 'Metadati']\n",
      "['R08_DatiCPA', 'Metadati']\n",
      "['R17_DatiCPA', 'Metadati']\n",
      "['R18_DatiCPA', 'Metadati']\n",
      "['R10_DatiCPA', 'Metadati']\n",
      "['R15_DatiCPA', 'Metadati']\n",
      "['R13_DatiCPA', 'Metadati']\n",
      "['R12_DatiCPA', 'Metadati']\n",
      "['R16_DatiCPA', 'Metadati']\n",
      "['R06_DatiCPA', 'Metadati']\n",
      "['R05_DatiCPA', 'Metadati']\n",
      "['R14_DatiCPA', 'Metadati']\n",
      "['R07_DatiCPA', 'Metadati']\n",
      "['R11_DatiCPA', 'Metadati']\n",
      "['R02_DatiCPA', 'Metadati']\n",
      "['R09_DatiCPA', 'Metadati']\n",
      "['R04_DatiCPA', 'Metadati']\n",
      "['R20_DatiCPA', 'Metadati']\n",
      "['R19_DatiCPA', 'Metadati']\n",
      "['R01_DatiCPA', 'Metadati']\n"
     ]
    }
   ],
   "source": [
    "for file in list(census_folder.rglob(\"*\")):\n",
    "    print(xlrd.open_workbook(file).sheet_names())"
   ],
   "metadata": {
    "collapsed": false
   }
  },
  {
   "cell_type": "code",
   "execution_count": 19,
   "outputs": [
    {
     "data": {
      "text/plain": "['R19_DatiCPA', 'Metadati']"
     },
     "execution_count": 19,
     "metadata": {},
     "output_type": "execute_result"
    }
   ],
   "source": [
    "l = ['R19_DatiCPA', 'Metadati']\n",
    "l"
   ],
   "metadata": {
    "collapsed": false
   }
  },
  {
   "cell_type": "code",
   "execution_count": 20,
   "outputs": [
    {
     "data": {
      "text/plain": "['R19_DatiCPA']"
     },
     "execution_count": 20,
     "metadata": {},
     "output_type": "execute_result"
    }
   ],
   "source": [
    "l.remove('Metadati')\n",
    "l"
   ],
   "metadata": {
    "collapsed": false
   }
  }
 ],
 "metadata": {
  "kernelspec": {
   "display_name": "Python 3",
   "language": "python",
   "name": "python3"
  },
  "language_info": {
   "codemirror_mode": {
    "name": "ipython",
    "version": 2
   },
   "file_extension": ".py",
   "mimetype": "text/x-python",
   "name": "python",
   "nbconvert_exporter": "python",
   "pygments_lexer": "ipython2",
   "version": "2.7.6"
  }
 },
 "nbformat": 4,
 "nbformat_minor": 0
}
