{
 "cells": [
  {
   "cell_type": "code",
   "execution_count": 1,
   "metadata": {
    "collapsed": true
   },
   "outputs": [
    {
     "data": {
      "text/plain": "(PosixPath('/home/max/Desktop/census_istat'),\n PosixPath('/home/max/Desktop/census_istat/output'))"
     },
     "execution_count": 1,
     "metadata": {},
     "output_type": "execute_result"
    }
   ],
   "source": [
    "from census_istat.config import MAIN_PATH, OUTPUT_FOLDER, SHARED_DATA\n",
    "MAIN_PATH, OUTPUT_FOLDER"
   ]
  },
  {
   "cell_type": "code",
   "execution_count": 2,
   "outputs": [
    {
     "data": {
      "text/plain": "dict"
     },
     "execution_count": 2,
     "metadata": {},
     "output_type": "execute_result"
    }
   ],
   "source": [
    "type(SHARED_DATA)"
   ],
   "metadata": {
    "collapsed": false
   }
  },
  {
   "cell_type": "code",
   "execution_count": 3,
   "outputs": [
    {
     "data": {
      "text/plain": "{'pop_tot': {'descrizione': 'Popolazione residente - TOTALE', 'codice': 'P1'},\n 'pop_tot_m': {'descrizione': 'Popolazione residente - Maschi',\n  'codice': 'P2'},\n 'pop_tot_f': {'descrizione': 'Popolazione residente - Femmine',\n  'codice': 'P3'},\n 'pop_meno_5_anni': {'descrizione': 'Popolazione residente - età < 5 anni',\n  'codice': 'P14'},\n 'pop_5_9_anni': {'descrizione': 'Popolazione residente - età 5 - 9 anni',\n  'codice': 'P15'},\n 'pop_10_14_anni': {'descrizione': 'Popolazione residente - età 10 - 14 anni',\n  'codice': 'P16'},\n 'pop_15_19_anni': {'descrizione': 'Popolazione residente - età 15 - 19 anni',\n  'codice': 'P17'},\n 'pop_20_24_anni': {'descrizione': 'Popolazione residente - età 20 - 24 anni',\n  'codice': 'P18'},\n 'pop_25_29_anni': {'descrizione': 'Popolazione residente - età 25 - 29 anni',\n  'codice': 'P19'},\n 'pop_30_34_anni': {'descrizione': 'Popolazione residente - età 30 - 34 anni',\n  'codice': 'P20'},\n 'pop_35_39_anni': {'descrizione': 'Popolazione residente - età 35 - 39 anni',\n  'codice': 'P21'},\n 'pop_40_44_anni': {'descrizione': 'Popolazione residente - età 40 - 44 anni',\n  'codice': 'P22'},\n 'pop_45_49_anni': {'descrizione': 'Popolazione residente - età 15 - 19 anni',\n  'codice': 'P23'},\n 'pop_50_54_anni': {'descrizione': 'Popolazione residente - età 20 - 24 anni',\n  'codice': 'P24'},\n 'pop_55_59_anni': {'descrizione': 'Popolazione residente - età 25 - 29 anni',\n  'codice': 'P25'},\n 'pop_60_64_anni': {'descrizione': 'Popolazione residente - età 30 - 34 anni',\n  'codice': 'P26'},\n 'pop_65_69_anni': {'descrizione': 'Popolazione residente - età 35 - 39 anni',\n  'codice': 'P27'},\n 'pop_70_74_anni': {'descrizione': 'Popolazione residente - età 40 - 44 anni',\n  'codice': 'P28'},\n 'pop_maggiore_74_anni': {'descrizione': 'Popolazione residente - età > 74 anni',\n  'codice': 'P29'},\n 'pop_meno_5_anni_m': {'descrizione': 'Popolazione residente - Maschi - età < 5 anni',\n  'codice': 'P30'},\n 'pop_5_9_anni_m': {'descrizione': 'Popolazione residente - Maschi - età 5 - 9 anni',\n  'codice': 'P31'},\n 'pop_10_14_anni_m': {'descrizione': 'Popolazione residente - Maschi - età 10 - 14 anni',\n  'codice': 'P32'},\n 'pop_15_19_anni_m': {'descrizione': 'Popolazione residente - Maschi - età 15 - 19 anni',\n  'codice': 'P33'},\n 'pop_20_24_anni_m': {'descrizione': 'Popolazione residente - Maschi - età 20 - 24 anni',\n  'codice': 'P34'},\n 'pop_25_29_anni_m': {'descrizione': 'Popolazione residente - Maschi - età 25 - 29 anni',\n  'codice': 'P35'},\n 'pop_30_34_anni_m': {'descrizione': 'Popolazione residente - Maschi - età 30 - 34 anni',\n  'codice': 'P36'},\n 'pop_35_39_anni_m': {'descrizione': 'Popolazione residente - Maschi - età 35 - 39 anni',\n  'codice': 'P37'},\n 'pop_40_44_anni_m': {'descrizione': 'Popolazione residente - Maschi - età 40 - 44 anni',\n  'codice': 'P38'},\n 'pop_45_49_anni_m': {'descrizione': 'Popolazione residente - Maschi - età 15 - 19 anni',\n  'codice': 'P39'},\n 'pop_50_54_anni_m': {'descrizione': 'Popolazione residente - Maschi - età 20 - 24 anni',\n  'codice': 'P40'},\n 'pop_55_59_anni_m': {'descrizione': 'Popolazione residente - Maschi - età 25 - 29 anni',\n  'codice': 'P41'},\n 'pop_60_64_anni_m': {'descrizione': 'Popolazione residente - Maschi - età 30 - 34 anni',\n  'codice': 'P42'},\n 'pop_65_69_anni_m': {'descrizione': 'Popolazione residente - Maschi - età 35 - 39 anni',\n  'codice': 'P43'},\n 'pop_70_74_anni_m': {'descrizione': 'Popolazione residente - Maschi - età 40 - 44 anni',\n  'codice': 'P44'},\n 'pop_maggiore_74_anni_m': {'descrizione': 'Popolazione residente - Maschi - età > 74 anni',\n  'codice': 'P45'},\n 'lavoratori_tot': {'descrizione': 'Forze lavoro - TOTALE', 'codice': 'P60'},\n 'lavoratori_occupati': {'descrizione': 'Forze lavoro - Occupati',\n  'codice': 'P61'},\n 'lavoratori_disoccupati': {'descrizione': 'Forze lavoro - Disoccupati e altre persone in cerca di occupazione',\n  'codice': 'P62'},\n 'famiglie_tot': {'descrizione': 'Famiglie totale', 'codice': 'PF1'},\n 'famiglie_componenti_tot': {'descrizione': 'Totale componenti delle famiglie',\n  'codice': 'PF2'},\n 'famiglie_1_componente': {'descrizione': 'Famiglie 1 componente',\n  'codice': 'PF3'},\n 'famiglie_2_componenti': {'descrizione': 'Famiglie 2 componenti',\n  'codice': 'PF4'},\n 'famiglie_3_componenti': {'descrizione': 'Famiglie 3 componenti',\n  'codice': 'PF5'},\n 'famiglie_4_componenti': {'descrizione': 'Famiglie 4 componenti',\n  'codice': 'PF6'},\n 'famiglie_5_componenti': {'descrizione': 'Famiglie 5 componenti',\n  'codice': 'PF7'},\n 'famiglie_6_componenti_e_oltre': {'descrizione': 'Famiglie 6 e oltre componenti',\n  'codice': 'PF8'},\n 'famiglie_residenti_oltre_6_componenti': {'descrizione': 'Componenti delle famiglie residenti di 6 e oltre componenti',\n  'codice': 'PF9'}}"
     },
     "execution_count": 3,
     "metadata": {},
     "output_type": "execute_result"
    }
   ],
   "source": [
    "SHARED_DATA"
   ],
   "metadata": {
    "collapsed": false
   }
  },
  {
   "cell_type": "code",
   "execution_count": 4,
   "outputs": [
    {
     "data": {
      "text/plain": "('P62', 'Forze lavoro - Disoccupati e altre persone in cerca di occupazione')"
     },
     "execution_count": 4,
     "metadata": {},
     "output_type": "execute_result"
    }
   ],
   "source": [
    "target = 'lavoratori_disoccupati'\n",
    "SHARED_DATA[target]['codice'], SHARED_DATA[target]['descrizione']"
   ],
   "metadata": {
    "collapsed": false
   }
  },
  {
   "cell_type": "code",
   "execution_count": 5,
   "outputs": [
    {
     "name": "stdout",
     "output_type": "stream",
     "text": [
      "P1: Popolazione residente - TOTALE\n",
      "P2: Popolazione residente - Maschi\n",
      "P3: Popolazione residente - Femmine\n",
      "P14: Popolazione residente - età < 5 anni\n",
      "P15: Popolazione residente - età 5 - 9 anni\n",
      "P16: Popolazione residente - età 10 - 14 anni\n",
      "P17: Popolazione residente - età 15 - 19 anni\n",
      "P18: Popolazione residente - età 20 - 24 anni\n",
      "P19: Popolazione residente - età 25 - 29 anni\n",
      "P20: Popolazione residente - età 30 - 34 anni\n",
      "P21: Popolazione residente - età 35 - 39 anni\n",
      "P22: Popolazione residente - età 40 - 44 anni\n",
      "P23: Popolazione residente - età 15 - 19 anni\n",
      "P24: Popolazione residente - età 20 - 24 anni\n",
      "P25: Popolazione residente - età 25 - 29 anni\n",
      "P26: Popolazione residente - età 30 - 34 anni\n",
      "P27: Popolazione residente - età 35 - 39 anni\n",
      "P28: Popolazione residente - età 40 - 44 anni\n",
      "P29: Popolazione residente - età > 74 anni\n",
      "P30: Popolazione residente - Maschi - età < 5 anni\n",
      "P31: Popolazione residente - Maschi - età 5 - 9 anni\n",
      "P32: Popolazione residente - Maschi - età 10 - 14 anni\n",
      "P33: Popolazione residente - Maschi - età 15 - 19 anni\n",
      "P34: Popolazione residente - Maschi - età 20 - 24 anni\n",
      "P35: Popolazione residente - Maschi - età 25 - 29 anni\n",
      "P36: Popolazione residente - Maschi - età 30 - 34 anni\n",
      "P37: Popolazione residente - Maschi - età 35 - 39 anni\n",
      "P38: Popolazione residente - Maschi - età 40 - 44 anni\n",
      "P39: Popolazione residente - Maschi - età 15 - 19 anni\n",
      "P40: Popolazione residente - Maschi - età 20 - 24 anni\n",
      "P41: Popolazione residente - Maschi - età 25 - 29 anni\n",
      "P42: Popolazione residente - Maschi - età 30 - 34 anni\n",
      "P43: Popolazione residente - Maschi - età 35 - 39 anni\n",
      "P44: Popolazione residente - Maschi - età 40 - 44 anni\n",
      "P45: Popolazione residente - Maschi - età > 74 anni\n",
      "P60: Forze lavoro - TOTALE\n",
      "P61: Forze lavoro - Occupati\n",
      "P62: Forze lavoro - Disoccupati e altre persone in cerca di occupazione\n",
      "PF1: Famiglie totale\n",
      "PF2: Totale componenti delle famiglie\n",
      "PF3: Famiglie 1 componente\n",
      "PF4: Famiglie 2 componenti\n",
      "PF5: Famiglie 3 componenti\n",
      "PF6: Famiglie 4 componenti\n",
      "PF7: Famiglie 5 componenti\n",
      "PF8: Famiglie 6 e oltre componenti\n",
      "PF9: Componenti delle famiglie residenti di 6 e oltre componenti\n"
     ]
    }
   ],
   "source": [
    "for key, value in SHARED_DATA.items():\n",
    "    print(f'{value[\"codice\"]}: {value[\"descrizione\"]}')"
   ],
   "metadata": {
    "collapsed": false
   }
  }
 ],
 "metadata": {
  "kernelspec": {
   "display_name": "Python 3",
   "language": "python",
   "name": "python3"
  },
  "language_info": {
   "codemirror_mode": {
    "name": "ipython",
    "version": 2
   },
   "file_extension": ".py",
   "mimetype": "text/x-python",
   "name": "python",
   "nbconvert_exporter": "python",
   "pygments_lexer": "ipython2",
   "version": "2.7.6"
  }
 },
 "nbformat": 4,
 "nbformat_minor": 0
}
