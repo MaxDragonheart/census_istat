{
 "cells": [
  {
   "cell_type": "code",
   "execution_count": 1,
   "metadata": {
    "collapsed": true
   },
   "outputs": [
    {
     "data": {
      "text/plain": "PosixPath('/home/max/Desktop/census_istat')"
     },
     "execution_count": 1,
     "metadata": {},
     "output_type": "execute_result"
    }
   ],
   "source": [
    "from census_istat.config import main_path\n",
    "main_path"
   ]
  },
  {
   "cell_type": "code",
   "execution_count": 2,
   "outputs": [
    {
     "data": {
      "text/plain": "PosixPath('/home/max/Desktop/census_istat/tmp/csv')"
     },
     "execution_count": 2,
     "metadata": {},
     "output_type": "execute_result"
    }
   ],
   "source": [
    "csv_path = main_path.joinpath('tmp/csv')\n",
    "csv_path"
   ],
   "metadata": {
    "collapsed": false
   }
  },
  {
   "cell_type": "code",
   "execution_count": 8,
   "outputs": [],
   "source": [
    "from census_istat.manage_data import read_csv"
   ],
   "metadata": {
    "collapsed": false
   }
  },
  {
   "cell_type": "code",
   "execution_count": 10,
   "outputs": [
    {
     "name": "stderr",
     "output_type": "stream",
     "text": [
      "2023-02-19 12:27:04,615 | 28580 - Get encoding\n",
      "2023-02-19 12:27:04,693 | 28580 - Read data\n"
     ]
    },
    {
     "name": "stdout",
     "output_type": "stream",
     "text": [
      "Dask DataFrame Structure:\n",
      "              CODREG REGIONE CODPRO PROVINCIA CODCOM  COMUNE PROCOM SEZ2011   NSEZ    ACE CODLOC   CODASC     P1     P2     P3     P4     P5     P6     P7     P8     P9    P10    P11    P12    P13    P14    P15    P16    P17    P18    P19    P20    P21    P22    P23    P24    P25    P26    P27    P28    P29    P30    P31    P32    P33    P34    P35    P36    P37    P38    P39    P40    P41    P42    P43    P44    P45    P46    P47    P48    P49    P50    P51    P52    P53    P54    P55    P56    P57    P58    P59    P60    P61    P62    P64    P65    P66   P128   P129   P130   P131   P132   P135   P136   P137   P138   P139   P140    ST1    ST2    ST3    ST4    ST5    ST6    ST7    ST8    ST9   ST10   ST11   ST12   ST13   ST14   ST15     A2     A3     A5     A6     A7    A44    A46    A47    A48    PF1    PF2    PF3    PF4    PF5    PF6    PF7    PF8    PF9     E1     E2     E3     E4     E5     E6     E7     E8     E9    E10    E11    E12    E13    E14    E15    E16    E17    E18    E19    E20    E21    E22    E23    E24    E25    E26    E27    E28    E29    E30    E31\n",
      "npartitions=1                                                                                                                                                                                                                                                                                                                                                                                                                                                                                                                                                                                                                                                                                                                                                                                                                                                                                                                                                                                                                                                                                                                \n",
      "               int64  object  int64    object  int64  object  int64   int64  int64  int64  int64  float64  int64  int64  int64  int64  int64  int64  int64  int64  int64  int64  int64  int64  int64  int64  int64  int64  int64  int64  int64  int64  int64  int64  int64  int64  int64  int64  int64  int64  int64  int64  int64  int64  int64  int64  int64  int64  int64  int64  int64  int64  int64  int64  int64  int64  int64  int64  int64  int64  int64  int64  int64  int64  int64  int64  int64  int64  int64  int64  int64  int64  int64  int64  int64  int64  int64  int64  int64  int64  int64  int64  int64  int64  int64  int64  int64  int64  int64  int64  int64  int64  int64  int64  int64  int64  int64  int64  int64  int64  int64  int64  int64  int64  int64  int64  int64  int64  int64  int64  int64  int64  int64  int64  int64  int64  int64  int64  int64  int64  int64  int64  int64  int64  int64  int64  int64  int64  int64  int64  int64  int64  int64  int64  int64  int64  int64  int64  int64  int64  int64  int64  int64  int64  int64  int64  int64  int64  int64  int64  int64  int64\n",
      "                 ...     ...    ...       ...    ...     ...    ...     ...    ...    ...    ...      ...    ...    ...    ...    ...    ...    ...    ...    ...    ...    ...    ...    ...    ...    ...    ...    ...    ...    ...    ...    ...    ...    ...    ...    ...    ...    ...    ...    ...    ...    ...    ...    ...    ...    ...    ...    ...    ...    ...    ...    ...    ...    ...    ...    ...    ...    ...    ...    ...    ...    ...    ...    ...    ...    ...    ...    ...    ...    ...    ...    ...    ...    ...    ...    ...    ...    ...    ...    ...    ...    ...    ...    ...    ...    ...    ...    ...    ...    ...    ...    ...    ...    ...    ...    ...    ...    ...    ...    ...    ...    ...    ...    ...    ...    ...    ...    ...    ...    ...    ...    ...    ...    ...    ...    ...    ...    ...    ...    ...    ...    ...    ...    ...    ...    ...    ...    ...    ...    ...    ...    ...    ...    ...    ...    ...    ...    ...    ...    ...    ...    ...    ...    ...    ...    ...    ...    ...    ...    ...    ...    ...\n",
      "Dask Name: read-csv, 1 graph layer\n",
      "<class 'dask.dataframe.core.DataFrame'>\n",
      "CPU times: user 160 ms, sys: 0 ns, total: 160 ms\n",
      "Wall time: 158 ms\n"
     ]
    },
    {
     "data": {
      "text/plain": "Dask DataFrame Structure:\n              CODREG REGIONE CODPRO PROVINCIA CODCOM  COMUNE PROCOM SEZ2011   NSEZ    ACE CODLOC   CODASC     P1     P2     P3     P4     P5     P6     P7     P8     P9    P10    P11    P12    P13    P14    P15    P16    P17    P18    P19    P20    P21    P22    P23    P24    P25    P26    P27    P28    P29    P30    P31    P32    P33    P34    P35    P36    P37    P38    P39    P40    P41    P42    P43    P44    P45    P46    P47    P48    P49    P50    P51    P52    P53    P54    P55    P56    P57    P58    P59    P60    P61    P62    P64    P65    P66   P128   P129   P130   P131   P132   P135   P136   P137   P138   P139   P140    ST1    ST2    ST3    ST4    ST5    ST6    ST7    ST8    ST9   ST10   ST11   ST12   ST13   ST14   ST15     A2     A3     A5     A6     A7    A44    A46    A47    A48    PF1    PF2    PF3    PF4    PF5    PF6    PF7    PF8    PF9     E1     E2     E3     E4     E5     E6     E7     E8     E9    E10    E11    E12    E13    E14    E15    E16    E17    E18    E19    E20    E21    E22    E23    E24    E25    E26    E27    E28    E29    E30    E31\nnpartitions=1                                                                                                                                                                                                                                                                                                                                                                                                                                                                                                                                                                                                                                                                                                                                                                                                                                                                                                                                                                                                                                                                                                                \n               int64  object  int64    object  int64  object  int64   int64  int64  int64  int64  float64  int64  int64  int64  int64  int64  int64  int64  int64  int64  int64  int64  int64  int64  int64  int64  int64  int64  int64  int64  int64  int64  int64  int64  int64  int64  int64  int64  int64  int64  int64  int64  int64  int64  int64  int64  int64  int64  int64  int64  int64  int64  int64  int64  int64  int64  int64  int64  int64  int64  int64  int64  int64  int64  int64  int64  int64  int64  int64  int64  int64  int64  int64  int64  int64  int64  int64  int64  int64  int64  int64  int64  int64  int64  int64  int64  int64  int64  int64  int64  int64  int64  int64  int64  int64  int64  int64  int64  int64  int64  int64  int64  int64  int64  int64  int64  int64  int64  int64  int64  int64  int64  int64  int64  int64  int64  int64  int64  int64  int64  int64  int64  int64  int64  int64  int64  int64  int64  int64  int64  int64  int64  int64  int64  int64  int64  int64  int64  int64  int64  int64  int64  int64  int64  int64  int64  int64  int64  int64  int64  int64\n                 ...     ...    ...       ...    ...     ...    ...     ...    ...    ...    ...      ...    ...    ...    ...    ...    ...    ...    ...    ...    ...    ...    ...    ...    ...    ...    ...    ...    ...    ...    ...    ...    ...    ...    ...    ...    ...    ...    ...    ...    ...    ...    ...    ...    ...    ...    ...    ...    ...    ...    ...    ...    ...    ...    ...    ...    ...    ...    ...    ...    ...    ...    ...    ...    ...    ...    ...    ...    ...    ...    ...    ...    ...    ...    ...    ...    ...    ...    ...    ...    ...    ...    ...    ...    ...    ...    ...    ...    ...    ...    ...    ...    ...    ...    ...    ...    ...    ...    ...    ...    ...    ...    ...    ...    ...    ...    ...    ...    ...    ...    ...    ...    ...    ...    ...    ...    ...    ...    ...    ...    ...    ...    ...    ...    ...    ...    ...    ...    ...    ...    ...    ...    ...    ...    ...    ...    ...    ...    ...    ...    ...    ...    ...    ...    ...    ...    ...    ...    ...    ...    ...    ...\nDask Name: read-csv, 1 graph layer",
      "text/html": "<div><strong>Dask DataFrame Structure:</strong></div>\n<div>\n<style scoped>\n    .dataframe tbody tr th:only-of-type {\n        vertical-align: middle;\n    }\n\n    .dataframe tbody tr th {\n        vertical-align: top;\n    }\n\n    .dataframe thead th {\n        text-align: right;\n    }\n</style>\n<table border=\"1\" class=\"dataframe\">\n  <thead>\n    <tr style=\"text-align: right;\">\n      <th></th>\n      <th>CODREG</th>\n      <th>REGIONE</th>\n      <th>CODPRO</th>\n      <th>PROVINCIA</th>\n      <th>CODCOM</th>\n      <th>COMUNE</th>\n      <th>PROCOM</th>\n      <th>SEZ2011</th>\n      <th>NSEZ</th>\n      <th>ACE</th>\n      <th>CODLOC</th>\n      <th>CODASC</th>\n      <th>P1</th>\n      <th>P2</th>\n      <th>P3</th>\n      <th>P4</th>\n      <th>P5</th>\n      <th>P6</th>\n      <th>P7</th>\n      <th>P8</th>\n      <th>P9</th>\n      <th>P10</th>\n      <th>P11</th>\n      <th>P12</th>\n      <th>P13</th>\n      <th>P14</th>\n      <th>P15</th>\n      <th>P16</th>\n      <th>P17</th>\n      <th>P18</th>\n      <th>P19</th>\n      <th>P20</th>\n      <th>P21</th>\n      <th>P22</th>\n      <th>P23</th>\n      <th>P24</th>\n      <th>P25</th>\n      <th>P26</th>\n      <th>P27</th>\n      <th>P28</th>\n      <th>P29</th>\n      <th>P30</th>\n      <th>P31</th>\n      <th>P32</th>\n      <th>P33</th>\n      <th>P34</th>\n      <th>P35</th>\n      <th>P36</th>\n      <th>P37</th>\n      <th>P38</th>\n      <th>P39</th>\n      <th>P40</th>\n      <th>P41</th>\n      <th>P42</th>\n      <th>P43</th>\n      <th>P44</th>\n      <th>P45</th>\n      <th>P46</th>\n      <th>P47</th>\n      <th>P48</th>\n      <th>P49</th>\n      <th>P50</th>\n      <th>P51</th>\n      <th>P52</th>\n      <th>P53</th>\n      <th>P54</th>\n      <th>P55</th>\n      <th>P56</th>\n      <th>P57</th>\n      <th>P58</th>\n      <th>P59</th>\n      <th>P60</th>\n      <th>P61</th>\n      <th>P62</th>\n      <th>P64</th>\n      <th>P65</th>\n      <th>P66</th>\n      <th>P128</th>\n      <th>P129</th>\n      <th>P130</th>\n      <th>P131</th>\n      <th>P132</th>\n      <th>P135</th>\n      <th>P136</th>\n      <th>P137</th>\n      <th>P138</th>\n      <th>P139</th>\n      <th>P140</th>\n      <th>ST1</th>\n      <th>ST2</th>\n      <th>ST3</th>\n      <th>ST4</th>\n      <th>ST5</th>\n      <th>ST6</th>\n      <th>ST7</th>\n      <th>ST8</th>\n      <th>ST9</th>\n      <th>ST10</th>\n      <th>ST11</th>\n      <th>ST12</th>\n      <th>ST13</th>\n      <th>ST14</th>\n      <th>ST15</th>\n      <th>A2</th>\n      <th>A3</th>\n      <th>A5</th>\n      <th>A6</th>\n      <th>A7</th>\n      <th>A44</th>\n      <th>A46</th>\n      <th>A47</th>\n      <th>A48</th>\n      <th>PF1</th>\n      <th>PF2</th>\n      <th>PF3</th>\n      <th>PF4</th>\n      <th>PF5</th>\n      <th>PF6</th>\n      <th>PF7</th>\n      <th>PF8</th>\n      <th>PF9</th>\n      <th>E1</th>\n      <th>E2</th>\n      <th>E3</th>\n      <th>E4</th>\n      <th>E5</th>\n      <th>E6</th>\n      <th>E7</th>\n      <th>E8</th>\n      <th>E9</th>\n      <th>E10</th>\n      <th>E11</th>\n      <th>E12</th>\n      <th>E13</th>\n      <th>E14</th>\n      <th>E15</th>\n      <th>E16</th>\n      <th>E17</th>\n      <th>E18</th>\n      <th>E19</th>\n      <th>E20</th>\n      <th>E21</th>\n      <th>E22</th>\n      <th>E23</th>\n      <th>E24</th>\n      <th>E25</th>\n      <th>E26</th>\n      <th>E27</th>\n      <th>E28</th>\n      <th>E29</th>\n      <th>E30</th>\n      <th>E31</th>\n    </tr>\n    <tr>\n      <th>npartitions=1</th>\n      <th></th>\n      <th></th>\n      <th></th>\n      <th></th>\n      <th></th>\n      <th></th>\n      <th></th>\n      <th></th>\n      <th></th>\n      <th></th>\n      <th></th>\n      <th></th>\n      <th></th>\n      <th></th>\n      <th></th>\n      <th></th>\n      <th></th>\n      <th></th>\n      <th></th>\n      <th></th>\n      <th></th>\n      <th></th>\n      <th></th>\n      <th></th>\n      <th></th>\n      <th></th>\n      <th></th>\n      <th></th>\n      <th></th>\n      <th></th>\n      <th></th>\n      <th></th>\n      <th></th>\n      <th></th>\n      <th></th>\n      <th></th>\n      <th></th>\n      <th></th>\n      <th></th>\n      <th></th>\n      <th></th>\n      <th></th>\n      <th></th>\n      <th></th>\n      <th></th>\n      <th></th>\n      <th></th>\n      <th></th>\n      <th></th>\n      <th></th>\n      <th></th>\n      <th></th>\n      <th></th>\n      <th></th>\n      <th></th>\n      <th></th>\n      <th></th>\n      <th></th>\n      <th></th>\n      <th></th>\n      <th></th>\n      <th></th>\n      <th></th>\n      <th></th>\n      <th></th>\n      <th></th>\n      <th></th>\n      <th></th>\n      <th></th>\n      <th></th>\n      <th></th>\n      <th></th>\n      <th></th>\n      <th></th>\n      <th></th>\n      <th></th>\n      <th></th>\n      <th></th>\n      <th></th>\n      <th></th>\n      <th></th>\n      <th></th>\n      <th></th>\n      <th></th>\n      <th></th>\n      <th></th>\n      <th></th>\n      <th></th>\n      <th></th>\n      <th></th>\n      <th></th>\n      <th></th>\n      <th></th>\n      <th></th>\n      <th></th>\n      <th></th>\n      <th></th>\n      <th></th>\n      <th></th>\n      <th></th>\n      <th></th>\n      <th></th>\n      <th></th>\n      <th></th>\n      <th></th>\n      <th></th>\n      <th></th>\n      <th></th>\n      <th></th>\n      <th></th>\n      <th></th>\n      <th></th>\n      <th></th>\n      <th></th>\n      <th></th>\n      <th></th>\n      <th></th>\n      <th></th>\n      <th></th>\n      <th></th>\n      <th></th>\n      <th></th>\n      <th></th>\n      <th></th>\n      <th></th>\n      <th></th>\n      <th></th>\n      <th></th>\n      <th></th>\n      <th></th>\n      <th></th>\n      <th></th>\n      <th></th>\n      <th></th>\n      <th></th>\n      <th></th>\n      <th></th>\n      <th></th>\n      <th></th>\n      <th></th>\n      <th></th>\n      <th></th>\n      <th></th>\n      <th></th>\n      <th></th>\n      <th></th>\n      <th></th>\n      <th></th>\n      <th></th>\n      <th></th>\n      <th></th>\n      <th></th>\n    </tr>\n  </thead>\n  <tbody>\n    <tr>\n      <th></th>\n      <td>int64</td>\n      <td>object</td>\n      <td>int64</td>\n      <td>object</td>\n      <td>int64</td>\n      <td>object</td>\n      <td>int64</td>\n      <td>int64</td>\n      <td>int64</td>\n      <td>int64</td>\n      <td>int64</td>\n      <td>float64</td>\n      <td>int64</td>\n      <td>int64</td>\n      <td>int64</td>\n      <td>int64</td>\n      <td>int64</td>\n      <td>int64</td>\n      <td>int64</td>\n      <td>int64</td>\n      <td>int64</td>\n      <td>int64</td>\n      <td>int64</td>\n      <td>int64</td>\n      <td>int64</td>\n      <td>int64</td>\n      <td>int64</td>\n      <td>int64</td>\n      <td>int64</td>\n      <td>int64</td>\n      <td>int64</td>\n      <td>int64</td>\n      <td>int64</td>\n      <td>int64</td>\n      <td>int64</td>\n      <td>int64</td>\n      <td>int64</td>\n      <td>int64</td>\n      <td>int64</td>\n      <td>int64</td>\n      <td>int64</td>\n      <td>int64</td>\n      <td>int64</td>\n      <td>int64</td>\n      <td>int64</td>\n      <td>int64</td>\n      <td>int64</td>\n      <td>int64</td>\n      <td>int64</td>\n      <td>int64</td>\n      <td>int64</td>\n      <td>int64</td>\n      <td>int64</td>\n      <td>int64</td>\n      <td>int64</td>\n      <td>int64</td>\n      <td>int64</td>\n      <td>int64</td>\n      <td>int64</td>\n      <td>int64</td>\n      <td>int64</td>\n      <td>int64</td>\n      <td>int64</td>\n      <td>int64</td>\n      <td>int64</td>\n      <td>int64</td>\n      <td>int64</td>\n      <td>int64</td>\n      <td>int64</td>\n      <td>int64</td>\n      <td>int64</td>\n      <td>int64</td>\n      <td>int64</td>\n      <td>int64</td>\n      <td>int64</td>\n      <td>int64</td>\n      <td>int64</td>\n      <td>int64</td>\n      <td>int64</td>\n      <td>int64</td>\n      <td>int64</td>\n      <td>int64</td>\n      <td>int64</td>\n      <td>int64</td>\n      <td>int64</td>\n      <td>int64</td>\n      <td>int64</td>\n      <td>int64</td>\n      <td>int64</td>\n      <td>int64</td>\n      <td>int64</td>\n      <td>int64</td>\n      <td>int64</td>\n      <td>int64</td>\n      <td>int64</td>\n      <td>int64</td>\n      <td>int64</td>\n      <td>int64</td>\n      <td>int64</td>\n      <td>int64</td>\n      <td>int64</td>\n      <td>int64</td>\n      <td>int64</td>\n      <td>int64</td>\n      <td>int64</td>\n      <td>int64</td>\n      <td>int64</td>\n      <td>int64</td>\n      <td>int64</td>\n      <td>int64</td>\n      <td>int64</td>\n      <td>int64</td>\n      <td>int64</td>\n      <td>int64</td>\n      <td>int64</td>\n      <td>int64</td>\n      <td>int64</td>\n      <td>int64</td>\n      <td>int64</td>\n      <td>int64</td>\n      <td>int64</td>\n      <td>int64</td>\n      <td>int64</td>\n      <td>int64</td>\n      <td>int64</td>\n      <td>int64</td>\n      <td>int64</td>\n      <td>int64</td>\n      <td>int64</td>\n      <td>int64</td>\n      <td>int64</td>\n      <td>int64</td>\n      <td>int64</td>\n      <td>int64</td>\n      <td>int64</td>\n      <td>int64</td>\n      <td>int64</td>\n      <td>int64</td>\n      <td>int64</td>\n      <td>int64</td>\n      <td>int64</td>\n      <td>int64</td>\n      <td>int64</td>\n      <td>int64</td>\n      <td>int64</td>\n      <td>int64</td>\n      <td>int64</td>\n      <td>int64</td>\n      <td>int64</td>\n      <td>int64</td>\n      <td>int64</td>\n      <td>int64</td>\n    </tr>\n    <tr>\n      <th></th>\n      <td>...</td>\n      <td>...</td>\n      <td>...</td>\n      <td>...</td>\n      <td>...</td>\n      <td>...</td>\n      <td>...</td>\n      <td>...</td>\n      <td>...</td>\n      <td>...</td>\n      <td>...</td>\n      <td>...</td>\n      <td>...</td>\n      <td>...</td>\n      <td>...</td>\n      <td>...</td>\n      <td>...</td>\n      <td>...</td>\n      <td>...</td>\n      <td>...</td>\n      <td>...</td>\n      <td>...</td>\n      <td>...</td>\n      <td>...</td>\n      <td>...</td>\n      <td>...</td>\n      <td>...</td>\n      <td>...</td>\n      <td>...</td>\n      <td>...</td>\n      <td>...</td>\n      <td>...</td>\n      <td>...</td>\n      <td>...</td>\n      <td>...</td>\n      <td>...</td>\n      <td>...</td>\n      <td>...</td>\n      <td>...</td>\n      <td>...</td>\n      <td>...</td>\n      <td>...</td>\n      <td>...</td>\n      <td>...</td>\n      <td>...</td>\n      <td>...</td>\n      <td>...</td>\n      <td>...</td>\n      <td>...</td>\n      <td>...</td>\n      <td>...</td>\n      <td>...</td>\n      <td>...</td>\n      <td>...</td>\n      <td>...</td>\n      <td>...</td>\n      <td>...</td>\n      <td>...</td>\n      <td>...</td>\n      <td>...</td>\n      <td>...</td>\n      <td>...</td>\n      <td>...</td>\n      <td>...</td>\n      <td>...</td>\n      <td>...</td>\n      <td>...</td>\n      <td>...</td>\n      <td>...</td>\n      <td>...</td>\n      <td>...</td>\n      <td>...</td>\n      <td>...</td>\n      <td>...</td>\n      <td>...</td>\n      <td>...</td>\n      <td>...</td>\n      <td>...</td>\n      <td>...</td>\n      <td>...</td>\n      <td>...</td>\n      <td>...</td>\n      <td>...</td>\n      <td>...</td>\n      <td>...</td>\n      <td>...</td>\n      <td>...</td>\n      <td>...</td>\n      <td>...</td>\n      <td>...</td>\n      <td>...</td>\n      <td>...</td>\n      <td>...</td>\n      <td>...</td>\n      <td>...</td>\n      <td>...</td>\n      <td>...</td>\n      <td>...</td>\n      <td>...</td>\n      <td>...</td>\n      <td>...</td>\n      <td>...</td>\n      <td>...</td>\n      <td>...</td>\n      <td>...</td>\n      <td>...</td>\n      <td>...</td>\n      <td>...</td>\n      <td>...</td>\n      <td>...</td>\n      <td>...</td>\n      <td>...</td>\n      <td>...</td>\n      <td>...</td>\n      <td>...</td>\n      <td>...</td>\n      <td>...</td>\n      <td>...</td>\n      <td>...</td>\n      <td>...</td>\n      <td>...</td>\n      <td>...</td>\n      <td>...</td>\n      <td>...</td>\n      <td>...</td>\n      <td>...</td>\n      <td>...</td>\n      <td>...</td>\n      <td>...</td>\n      <td>...</td>\n      <td>...</td>\n      <td>...</td>\n      <td>...</td>\n      <td>...</td>\n      <td>...</td>\n      <td>...</td>\n      <td>...</td>\n      <td>...</td>\n      <td>...</td>\n      <td>...</td>\n      <td>...</td>\n      <td>...</td>\n      <td>...</td>\n      <td>...</td>\n      <td>...</td>\n      <td>...</td>\n      <td>...</td>\n      <td>...</td>\n      <td>...</td>\n      <td>...</td>\n      <td>...</td>\n      <td>...</td>\n    </tr>\n  </tbody>\n</table>\n</div>\n<div>Dask Name: read-csv, 1 graph layer</div>"
     },
     "execution_count": 10,
     "metadata": {},
     "output_type": "execute_result"
    }
   ],
   "source": [
    "%%time\n",
    "\n",
    "csv_df = read_csv(csv_path=csv_data)\n",
    "csv_df"
   ],
   "metadata": {
    "collapsed": false
   }
  }
 ],
 "metadata": {
  "kernelspec": {
   "display_name": "Python 3",
   "language": "python",
   "name": "python3"
  },
  "language_info": {
   "codemirror_mode": {
    "name": "ipython",
    "version": 2
   },
   "file_extension": ".py",
   "mimetype": "text/x-python",
   "name": "python",
   "nbconvert_exporter": "python",
   "pygments_lexer": "ipython2",
   "version": "2.7.6"
  }
 },
 "nbformat": 4,
 "nbformat_minor": 0
}
