{
 "cells": [
  {
   "cell_type": "code",
   "execution_count": 1,
   "metadata": {
    "collapsed": true
   },
   "outputs": [
    {
     "data": {
      "text/plain": "(PosixPath('/home/max/Desktop/census_istat'),\n PosixPath('/home/max/Desktop/census_istat/output'))"
     },
     "execution_count": 1,
     "metadata": {},
     "output_type": "execute_result"
    }
   ],
   "source": [
    "import pandas as pd\n",
    "\n",
    "from census_istat.config import MAIN_PATH, OUTPUT_FOLDER, SHARED_DATA\n",
    "MAIN_PATH, OUTPUT_FOLDER"
   ]
  },
  {
   "cell_type": "code",
   "execution_count": 3,
   "outputs": [
    {
     "data": {
      "text/plain": "dict"
     },
     "execution_count": 3,
     "metadata": {},
     "output_type": "execute_result"
    }
   ],
   "source": [
    "type(SHARED_DATA)"
   ],
   "metadata": {
    "collapsed": false
   }
  },
  {
   "cell_type": "code",
   "execution_count": 5,
   "outputs": [
    {
     "data": {
      "text/plain": "{'pop_tot': {'descrizione': 'Popolazione residente - TOTALE', 'codice': 'P1'},\n 'pop_tot_m': {'descrizione': 'Popolazione residente - Maschi',\n  'codice': 'P2'},\n 'pop_tot_f': {'descrizione': 'Popolazione residente - Femmine',\n  'codice': 'P3'},\n 'pop_meno_5_anni': {'descrizione': 'Popolazione residente - età < 5 anni',\n  'codice': 'P14'},\n 'pop_5_9_anni': {'descrizione': 'Popolazione residente - età 5 - 9 anni',\n  'codice': 'P15'},\n 'pop_10_14_anni': {'descrizione': 'Popolazione residente - età 10 - 14 anni',\n  'codice': 'P16'}}"
     },
     "execution_count": 5,
     "metadata": {},
     "output_type": "execute_result"
    }
   ],
   "source": [
    "SHARED_DATA"
   ],
   "metadata": {
    "collapsed": false
   }
  },
  {
   "cell_type": "code",
   "execution_count": 7,
   "outputs": [
    {
     "data": {
      "text/plain": "'P1'"
     },
     "execution_count": 7,
     "metadata": {},
     "output_type": "execute_result"
    }
   ],
   "source": [
    "pop_tot = SHARED_DATA['pop_tot']['codice']\n",
    "pop_tot"
   ],
   "metadata": {
    "collapsed": false
   }
  }
 ],
 "metadata": {
  "kernelspec": {
   "display_name": "Python 3",
   "language": "python",
   "name": "python3"
  },
  "language_info": {
   "codemirror_mode": {
    "name": "ipython",
    "version": 2
   },
   "file_extension": ".py",
   "mimetype": "text/x-python",
   "name": "python",
   "nbconvert_exporter": "python",
   "pygments_lexer": "ipython2",
   "version": "2.7.6"
  }
 },
 "nbformat": 4,
 "nbformat_minor": 0
}
