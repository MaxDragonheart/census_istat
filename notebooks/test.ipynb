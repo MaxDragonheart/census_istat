{
 "cells": [
  {
   "cell_type": "code",
   "execution_count": 1,
   "metadata": {
    "collapsed": true
   },
   "outputs": [
    {
     "data": {
      "text/plain": "PosixPath('/home/max/Desktop/census_istat')"
     },
     "execution_count": 1,
     "metadata": {},
     "output_type": "execute_result"
    }
   ],
   "source": [
    "from census_istat.config import main_path\n",
    "main_path"
   ]
  },
  {
   "cell_type": "code",
   "execution_count": 2,
   "outputs": [
    {
     "data": {
      "text/plain": "PosixPath('/home/max/Desktop/census_istat/tmp/csv/R03_indicatori_2011_sezioni.csv')"
     },
     "execution_count": 2,
     "metadata": {},
     "output_type": "execute_result"
    }
   ],
   "source": [
    "csv_path = main_path.joinpath('tmp/csv')\n",
    "csv_data = csv_path.joinpath('R03_indicatori_2011_sezioni.csv')\n",
    "csv_data"
   ],
   "metadata": {
    "collapsed": false
   }
  },
  {
   "cell_type": "code",
   "execution_count": 3,
   "outputs": [],
   "source": [
    "from census_istat.manage_data import read_csv"
   ],
   "metadata": {
    "collapsed": false
   }
  },
  {
   "cell_type": "code",
   "execution_count": 4,
   "outputs": [
    {
     "name": "stderr",
     "output_type": "stream",
     "text": [
      "2023-02-19 12:54:08,845 | 33522 - Get encoding\n",
      "2023-02-19 12:54:08,892 | 33522 - Read data\n"
     ]
    },
    {
     "name": "stdout",
     "output_type": "stream",
     "text": [
      "CPU times: user 141 ms, sys: 0 ns, total: 141 ms\n",
      "Wall time: 140 ms\n"
     ]
    },
    {
     "data": {
      "text/plain": "Dask DataFrame Structure:\n                codreg regione   codpro provincia   codcom  comune   procom  sez2011     nsez      ace   codloc   codasc       p1       p2       p3       p4       p5       p6       p7       p8       p9      p10      p11      p12      p13      p14      p15      p16      p17      p18      p19      p20      p21      p22      p23      p24      p25      p26      p27      p28      p29      p30      p31      p32      p33      p34      p35      p36      p37      p38      p39      p40      p41      p42      p43      p44      p45      p46      p47      p48      p49      p50      p51      p52      p53      p54      p55      p56      p57      p58      p59      p60      p61      p62      p64      p65      p66     p128     p129     p130     p131     p132     p135     p136     p137     p138     p139     p140      st1      st2      st3      st4      st5      st6      st7      st8      st9     st10     st11     st12     st13     st14     st15       a2       a3       a5       a6       a7      a44      a46      a47      a48      pf1      pf2      pf3      pf4      pf5      pf6      pf7      pf8      pf9       e1       e2       e3       e4       e5       e6       e7       e8       e9      e10      e11      e12      e13      e14      e15      e16      e17      e18      e19      e20      e21      e22      e23      e24      e25      e26      e27      e28      e29      e30      e31\nnpartitions=1                                                                                                                                                                                                                                                                                                                                                                                                                                                                                                                                                                                                                                                                                                                                                                                                                                                                                                                                                                                                                                                                                                                                                                                                                                                                                                                                                                                                                       \n               float64  object  float64    object  float64  object  float64  float64  float64  float64  float64  float64  float64  float64  float64  float64  float64  float64  float64  float64  float64  float64  float64  float64  float64  float64  float64  float64  float64  float64  float64  float64  float64  float64  float64  float64  float64  float64  float64  float64  float64  float64  float64  float64  float64  float64  float64  float64  float64  float64  float64  float64  float64  float64  float64  float64  float64  float64  float64  float64  float64  float64  float64  float64  float64  float64  float64  float64  float64  float64  float64  float64  float64  float64  float64  float64  float64  float64  float64  float64  float64  float64  float64  float64  float64  float64  float64  float64  float64  float64  float64  float64  float64  float64  float64  float64  float64  float64  float64  float64  float64  float64  float64  float64  float64  float64  float64  float64  float64  float64  float64  float64  float64  float64  float64  float64  float64  float64  float64  float64  float64  float64  float64  float64  float64  float64  float64  float64  float64  float64  float64  float64  float64  float64  float64  float64  float64  float64  float64  float64  float64  float64  float64  float64  float64  float64  float64  float64  float64  float64  float64  float64\n                   ...     ...      ...       ...      ...     ...      ...      ...      ...      ...      ...      ...      ...      ...      ...      ...      ...      ...      ...      ...      ...      ...      ...      ...      ...      ...      ...      ...      ...      ...      ...      ...      ...      ...      ...      ...      ...      ...      ...      ...      ...      ...      ...      ...      ...      ...      ...      ...      ...      ...      ...      ...      ...      ...      ...      ...      ...      ...      ...      ...      ...      ...      ...      ...      ...      ...      ...      ...      ...      ...      ...      ...      ...      ...      ...      ...      ...      ...      ...      ...      ...      ...      ...      ...      ...      ...      ...      ...      ...      ...      ...      ...      ...      ...      ...      ...      ...      ...      ...      ...      ...      ...      ...      ...      ...      ...      ...      ...      ...      ...      ...      ...      ...      ...      ...      ...      ...      ...      ...      ...      ...      ...      ...      ...      ...      ...      ...      ...      ...      ...      ...      ...      ...      ...      ...      ...      ...      ...      ...      ...      ...      ...      ...      ...      ...      ...      ...      ...      ...      ...      ...      ...\nDask Name: replace, 3 graph layers",
      "text/html": "<div><strong>Dask DataFrame Structure:</strong></div>\n<div>\n<style scoped>\n    .dataframe tbody tr th:only-of-type {\n        vertical-align: middle;\n    }\n\n    .dataframe tbody tr th {\n        vertical-align: top;\n    }\n\n    .dataframe thead th {\n        text-align: right;\n    }\n</style>\n<table border=\"1\" class=\"dataframe\">\n  <thead>\n    <tr style=\"text-align: right;\">\n      <th></th>\n      <th>codreg</th>\n      <th>regione</th>\n      <th>codpro</th>\n      <th>provincia</th>\n      <th>codcom</th>\n      <th>comune</th>\n      <th>procom</th>\n      <th>sez2011</th>\n      <th>nsez</th>\n      <th>ace</th>\n      <th>codloc</th>\n      <th>codasc</th>\n      <th>p1</th>\n      <th>p2</th>\n      <th>p3</th>\n      <th>p4</th>\n      <th>p5</th>\n      <th>p6</th>\n      <th>p7</th>\n      <th>p8</th>\n      <th>p9</th>\n      <th>p10</th>\n      <th>p11</th>\n      <th>p12</th>\n      <th>p13</th>\n      <th>p14</th>\n      <th>p15</th>\n      <th>p16</th>\n      <th>p17</th>\n      <th>p18</th>\n      <th>p19</th>\n      <th>p20</th>\n      <th>p21</th>\n      <th>p22</th>\n      <th>p23</th>\n      <th>p24</th>\n      <th>p25</th>\n      <th>p26</th>\n      <th>p27</th>\n      <th>p28</th>\n      <th>p29</th>\n      <th>p30</th>\n      <th>p31</th>\n      <th>p32</th>\n      <th>p33</th>\n      <th>p34</th>\n      <th>p35</th>\n      <th>p36</th>\n      <th>p37</th>\n      <th>p38</th>\n      <th>p39</th>\n      <th>p40</th>\n      <th>p41</th>\n      <th>p42</th>\n      <th>p43</th>\n      <th>p44</th>\n      <th>p45</th>\n      <th>p46</th>\n      <th>p47</th>\n      <th>p48</th>\n      <th>p49</th>\n      <th>p50</th>\n      <th>p51</th>\n      <th>p52</th>\n      <th>p53</th>\n      <th>p54</th>\n      <th>p55</th>\n      <th>p56</th>\n      <th>p57</th>\n      <th>p58</th>\n      <th>p59</th>\n      <th>p60</th>\n      <th>p61</th>\n      <th>p62</th>\n      <th>p64</th>\n      <th>p65</th>\n      <th>p66</th>\n      <th>p128</th>\n      <th>p129</th>\n      <th>p130</th>\n      <th>p131</th>\n      <th>p132</th>\n      <th>p135</th>\n      <th>p136</th>\n      <th>p137</th>\n      <th>p138</th>\n      <th>p139</th>\n      <th>p140</th>\n      <th>st1</th>\n      <th>st2</th>\n      <th>st3</th>\n      <th>st4</th>\n      <th>st5</th>\n      <th>st6</th>\n      <th>st7</th>\n      <th>st8</th>\n      <th>st9</th>\n      <th>st10</th>\n      <th>st11</th>\n      <th>st12</th>\n      <th>st13</th>\n      <th>st14</th>\n      <th>st15</th>\n      <th>a2</th>\n      <th>a3</th>\n      <th>a5</th>\n      <th>a6</th>\n      <th>a7</th>\n      <th>a44</th>\n      <th>a46</th>\n      <th>a47</th>\n      <th>a48</th>\n      <th>pf1</th>\n      <th>pf2</th>\n      <th>pf3</th>\n      <th>pf4</th>\n      <th>pf5</th>\n      <th>pf6</th>\n      <th>pf7</th>\n      <th>pf8</th>\n      <th>pf9</th>\n      <th>e1</th>\n      <th>e2</th>\n      <th>e3</th>\n      <th>e4</th>\n      <th>e5</th>\n      <th>e6</th>\n      <th>e7</th>\n      <th>e8</th>\n      <th>e9</th>\n      <th>e10</th>\n      <th>e11</th>\n      <th>e12</th>\n      <th>e13</th>\n      <th>e14</th>\n      <th>e15</th>\n      <th>e16</th>\n      <th>e17</th>\n      <th>e18</th>\n      <th>e19</th>\n      <th>e20</th>\n      <th>e21</th>\n      <th>e22</th>\n      <th>e23</th>\n      <th>e24</th>\n      <th>e25</th>\n      <th>e26</th>\n      <th>e27</th>\n      <th>e28</th>\n      <th>e29</th>\n      <th>e30</th>\n      <th>e31</th>\n    </tr>\n    <tr>\n      <th>npartitions=1</th>\n      <th></th>\n      <th></th>\n      <th></th>\n      <th></th>\n      <th></th>\n      <th></th>\n      <th></th>\n      <th></th>\n      <th></th>\n      <th></th>\n      <th></th>\n      <th></th>\n      <th></th>\n      <th></th>\n      <th></th>\n      <th></th>\n      <th></th>\n      <th></th>\n      <th></th>\n      <th></th>\n      <th></th>\n      <th></th>\n      <th></th>\n      <th></th>\n      <th></th>\n      <th></th>\n      <th></th>\n      <th></th>\n      <th></th>\n      <th></th>\n      <th></th>\n      <th></th>\n      <th></th>\n      <th></th>\n      <th></th>\n      <th></th>\n      <th></th>\n      <th></th>\n      <th></th>\n      <th></th>\n      <th></th>\n      <th></th>\n      <th></th>\n      <th></th>\n      <th></th>\n      <th></th>\n      <th></th>\n      <th></th>\n      <th></th>\n      <th></th>\n      <th></th>\n      <th></th>\n      <th></th>\n      <th></th>\n      <th></th>\n      <th></th>\n      <th></th>\n      <th></th>\n      <th></th>\n      <th></th>\n      <th></th>\n      <th></th>\n      <th></th>\n      <th></th>\n      <th></th>\n      <th></th>\n      <th></th>\n      <th></th>\n      <th></th>\n      <th></th>\n      <th></th>\n      <th></th>\n      <th></th>\n      <th></th>\n      <th></th>\n      <th></th>\n      <th></th>\n      <th></th>\n      <th></th>\n      <th></th>\n      <th></th>\n      <th></th>\n      <th></th>\n      <th></th>\n      <th></th>\n      <th></th>\n      <th></th>\n      <th></th>\n      <th></th>\n      <th></th>\n      <th></th>\n      <th></th>\n      <th></th>\n      <th></th>\n      <th></th>\n      <th></th>\n      <th></th>\n      <th></th>\n      <th></th>\n      <th></th>\n      <th></th>\n      <th></th>\n      <th></th>\n      <th></th>\n      <th></th>\n      <th></th>\n      <th></th>\n      <th></th>\n      <th></th>\n      <th></th>\n      <th></th>\n      <th></th>\n      <th></th>\n      <th></th>\n      <th></th>\n      <th></th>\n      <th></th>\n      <th></th>\n      <th></th>\n      <th></th>\n      <th></th>\n      <th></th>\n      <th></th>\n      <th></th>\n      <th></th>\n      <th></th>\n      <th></th>\n      <th></th>\n      <th></th>\n      <th></th>\n      <th></th>\n      <th></th>\n      <th></th>\n      <th></th>\n      <th></th>\n      <th></th>\n      <th></th>\n      <th></th>\n      <th></th>\n      <th></th>\n      <th></th>\n      <th></th>\n      <th></th>\n      <th></th>\n      <th></th>\n      <th></th>\n      <th></th>\n      <th></th>\n      <th></th>\n      <th></th>\n      <th></th>\n      <th></th>\n    </tr>\n  </thead>\n  <tbody>\n    <tr>\n      <th></th>\n      <td>float64</td>\n      <td>object</td>\n      <td>float64</td>\n      <td>object</td>\n      <td>float64</td>\n      <td>object</td>\n      <td>float64</td>\n      <td>float64</td>\n      <td>float64</td>\n      <td>float64</td>\n      <td>float64</td>\n      <td>float64</td>\n      <td>float64</td>\n      <td>float64</td>\n      <td>float64</td>\n      <td>float64</td>\n      <td>float64</td>\n      <td>float64</td>\n      <td>float64</td>\n      <td>float64</td>\n      <td>float64</td>\n      <td>float64</td>\n      <td>float64</td>\n      <td>float64</td>\n      <td>float64</td>\n      <td>float64</td>\n      <td>float64</td>\n      <td>float64</td>\n      <td>float64</td>\n      <td>float64</td>\n      <td>float64</td>\n      <td>float64</td>\n      <td>float64</td>\n      <td>float64</td>\n      <td>float64</td>\n      <td>float64</td>\n      <td>float64</td>\n      <td>float64</td>\n      <td>float64</td>\n      <td>float64</td>\n      <td>float64</td>\n      <td>float64</td>\n      <td>float64</td>\n      <td>float64</td>\n      <td>float64</td>\n      <td>float64</td>\n      <td>float64</td>\n      <td>float64</td>\n      <td>float64</td>\n      <td>float64</td>\n      <td>float64</td>\n      <td>float64</td>\n      <td>float64</td>\n      <td>float64</td>\n      <td>float64</td>\n      <td>float64</td>\n      <td>float64</td>\n      <td>float64</td>\n      <td>float64</td>\n      <td>float64</td>\n      <td>float64</td>\n      <td>float64</td>\n      <td>float64</td>\n      <td>float64</td>\n      <td>float64</td>\n      <td>float64</td>\n      <td>float64</td>\n      <td>float64</td>\n      <td>float64</td>\n      <td>float64</td>\n      <td>float64</td>\n      <td>float64</td>\n      <td>float64</td>\n      <td>float64</td>\n      <td>float64</td>\n      <td>float64</td>\n      <td>float64</td>\n      <td>float64</td>\n      <td>float64</td>\n      <td>float64</td>\n      <td>float64</td>\n      <td>float64</td>\n      <td>float64</td>\n      <td>float64</td>\n      <td>float64</td>\n      <td>float64</td>\n      <td>float64</td>\n      <td>float64</td>\n      <td>float64</td>\n      <td>float64</td>\n      <td>float64</td>\n      <td>float64</td>\n      <td>float64</td>\n      <td>float64</td>\n      <td>float64</td>\n      <td>float64</td>\n      <td>float64</td>\n      <td>float64</td>\n      <td>float64</td>\n      <td>float64</td>\n      <td>float64</td>\n      <td>float64</td>\n      <td>float64</td>\n      <td>float64</td>\n      <td>float64</td>\n      <td>float64</td>\n      <td>float64</td>\n      <td>float64</td>\n      <td>float64</td>\n      <td>float64</td>\n      <td>float64</td>\n      <td>float64</td>\n      <td>float64</td>\n      <td>float64</td>\n      <td>float64</td>\n      <td>float64</td>\n      <td>float64</td>\n      <td>float64</td>\n      <td>float64</td>\n      <td>float64</td>\n      <td>float64</td>\n      <td>float64</td>\n      <td>float64</td>\n      <td>float64</td>\n      <td>float64</td>\n      <td>float64</td>\n      <td>float64</td>\n      <td>float64</td>\n      <td>float64</td>\n      <td>float64</td>\n      <td>float64</td>\n      <td>float64</td>\n      <td>float64</td>\n      <td>float64</td>\n      <td>float64</td>\n      <td>float64</td>\n      <td>float64</td>\n      <td>float64</td>\n      <td>float64</td>\n      <td>float64</td>\n      <td>float64</td>\n      <td>float64</td>\n      <td>float64</td>\n      <td>float64</td>\n      <td>float64</td>\n      <td>float64</td>\n      <td>float64</td>\n      <td>float64</td>\n      <td>float64</td>\n      <td>float64</td>\n      <td>float64</td>\n      <td>float64</td>\n    </tr>\n    <tr>\n      <th></th>\n      <td>...</td>\n      <td>...</td>\n      <td>...</td>\n      <td>...</td>\n      <td>...</td>\n      <td>...</td>\n      <td>...</td>\n      <td>...</td>\n      <td>...</td>\n      <td>...</td>\n      <td>...</td>\n      <td>...</td>\n      <td>...</td>\n      <td>...</td>\n      <td>...</td>\n      <td>...</td>\n      <td>...</td>\n      <td>...</td>\n      <td>...</td>\n      <td>...</td>\n      <td>...</td>\n      <td>...</td>\n      <td>...</td>\n      <td>...</td>\n      <td>...</td>\n      <td>...</td>\n      <td>...</td>\n      <td>...</td>\n      <td>...</td>\n      <td>...</td>\n      <td>...</td>\n      <td>...</td>\n      <td>...</td>\n      <td>...</td>\n      <td>...</td>\n      <td>...</td>\n      <td>...</td>\n      <td>...</td>\n      <td>...</td>\n      <td>...</td>\n      <td>...</td>\n      <td>...</td>\n      <td>...</td>\n      <td>...</td>\n      <td>...</td>\n      <td>...</td>\n      <td>...</td>\n      <td>...</td>\n      <td>...</td>\n      <td>...</td>\n      <td>...</td>\n      <td>...</td>\n      <td>...</td>\n      <td>...</td>\n      <td>...</td>\n      <td>...</td>\n      <td>...</td>\n      <td>...</td>\n      <td>...</td>\n      <td>...</td>\n      <td>...</td>\n      <td>...</td>\n      <td>...</td>\n      <td>...</td>\n      <td>...</td>\n      <td>...</td>\n      <td>...</td>\n      <td>...</td>\n      <td>...</td>\n      <td>...</td>\n      <td>...</td>\n      <td>...</td>\n      <td>...</td>\n      <td>...</td>\n      <td>...</td>\n      <td>...</td>\n      <td>...</td>\n      <td>...</td>\n      <td>...</td>\n      <td>...</td>\n      <td>...</td>\n      <td>...</td>\n      <td>...</td>\n      <td>...</td>\n      <td>...</td>\n      <td>...</td>\n      <td>...</td>\n      <td>...</td>\n      <td>...</td>\n      <td>...</td>\n      <td>...</td>\n      <td>...</td>\n      <td>...</td>\n      <td>...</td>\n      <td>...</td>\n      <td>...</td>\n      <td>...</td>\n      <td>...</td>\n      <td>...</td>\n      <td>...</td>\n      <td>...</td>\n      <td>...</td>\n      <td>...</td>\n      <td>...</td>\n      <td>...</td>\n      <td>...</td>\n      <td>...</td>\n      <td>...</td>\n      <td>...</td>\n      <td>...</td>\n      <td>...</td>\n      <td>...</td>\n      <td>...</td>\n      <td>...</td>\n      <td>...</td>\n      <td>...</td>\n      <td>...</td>\n      <td>...</td>\n      <td>...</td>\n      <td>...</td>\n      <td>...</td>\n      <td>...</td>\n      <td>...</td>\n      <td>...</td>\n      <td>...</td>\n      <td>...</td>\n      <td>...</td>\n      <td>...</td>\n      <td>...</td>\n      <td>...</td>\n      <td>...</td>\n      <td>...</td>\n      <td>...</td>\n      <td>...</td>\n      <td>...</td>\n      <td>...</td>\n      <td>...</td>\n      <td>...</td>\n      <td>...</td>\n      <td>...</td>\n      <td>...</td>\n      <td>...</td>\n      <td>...</td>\n      <td>...</td>\n      <td>...</td>\n      <td>...</td>\n      <td>...</td>\n      <td>...</td>\n      <td>...</td>\n      <td>...</td>\n      <td>...</td>\n      <td>...</td>\n    </tr>\n  </tbody>\n</table>\n</div>\n<div>Dask Name: replace, 3 graph layers</div>"
     },
     "execution_count": 4,
     "metadata": {},
     "output_type": "execute_result"
    }
   ],
   "source": [
    "%%time\n",
    "\n",
    "csv_df = read_csv(csv_path=csv_data)\n",
    "csv_df"
   ],
   "metadata": {
    "collapsed": false
   }
  },
  {
   "cell_type": "code",
   "execution_count": 8,
   "outputs": [
    {
     "name": "stdout",
     "output_type": "stream",
     "text": [
      "<class 'pandas.core.frame.DataFrame'>\n",
      "codreg       float64\n",
      "regione       object\n",
      "codpro       float64\n",
      "provincia     object\n",
      "codcom       float64\n",
      "              ...   \n",
      "e27          float64\n",
      "e28          float64\n",
      "e29          float64\n",
      "e30          float64\n",
      "e31          float64\n",
      "Length: 152, dtype: object\n"
     ]
    },
    {
     "data": {
      "text/plain": "   codreg    regione  codpro provincia  codcom comune   procom       sez2011  \\\n0     3.0  Lombardia    12.0    Varese     1.0   Agra  12001.0  1.200100e+11   \n1     3.0  Lombardia    12.0    Varese     1.0   Agra  12001.0  1.200100e+11   \n2     3.0  Lombardia    12.0    Varese     1.0   Agra  12001.0  1.200100e+11   \n3     3.0  Lombardia    12.0    Varese     1.0   Agra  12001.0  1.200100e+11   \n4     3.0  Lombardia    12.0    Varese     1.0   Agra  12001.0  1.200100e+11   \n\n   nsez  ace  ...   e22   e23  e24  e25  e26    e27   e28    e29   e30  e31  \n0   1.0  0.0  ...  65.0  31.0  4.0  3.0  0.0  395.0  56.0  100.0  54.0  1.0  \n1   2.0  0.0  ...   9.0  11.0  0.0  0.0  1.0  120.0  16.0   33.0   6.0  0.0  \n2   3.0  0.0  ...   4.0   0.0  0.0  0.0  0.0   18.0   6.0    8.0   0.0  0.0  \n3   7.0  0.0  ...   1.0   0.0  0.0  0.0  0.0    8.0   1.0    5.0   1.0  0.0  \n4  10.0  0.0  ...  10.0   2.0  0.0  0.0  0.0   39.0   6.0   16.0   3.0  0.0  \n\n[5 rows x 152 columns]",
      "text/html": "<div>\n<style scoped>\n    .dataframe tbody tr th:only-of-type {\n        vertical-align: middle;\n    }\n\n    .dataframe tbody tr th {\n        vertical-align: top;\n    }\n\n    .dataframe thead th {\n        text-align: right;\n    }\n</style>\n<table border=\"1\" class=\"dataframe\">\n  <thead>\n    <tr style=\"text-align: right;\">\n      <th></th>\n      <th>codreg</th>\n      <th>regione</th>\n      <th>codpro</th>\n      <th>provincia</th>\n      <th>codcom</th>\n      <th>comune</th>\n      <th>procom</th>\n      <th>sez2011</th>\n      <th>nsez</th>\n      <th>ace</th>\n      <th>...</th>\n      <th>e22</th>\n      <th>e23</th>\n      <th>e24</th>\n      <th>e25</th>\n      <th>e26</th>\n      <th>e27</th>\n      <th>e28</th>\n      <th>e29</th>\n      <th>e30</th>\n      <th>e31</th>\n    </tr>\n  </thead>\n  <tbody>\n    <tr>\n      <th>0</th>\n      <td>3.0</td>\n      <td>Lombardia</td>\n      <td>12.0</td>\n      <td>Varese</td>\n      <td>1.0</td>\n      <td>Agra</td>\n      <td>12001.0</td>\n      <td>1.200100e+11</td>\n      <td>1.0</td>\n      <td>0.0</td>\n      <td>...</td>\n      <td>65.0</td>\n      <td>31.0</td>\n      <td>4.0</td>\n      <td>3.0</td>\n      <td>0.0</td>\n      <td>395.0</td>\n      <td>56.0</td>\n      <td>100.0</td>\n      <td>54.0</td>\n      <td>1.0</td>\n    </tr>\n    <tr>\n      <th>1</th>\n      <td>3.0</td>\n      <td>Lombardia</td>\n      <td>12.0</td>\n      <td>Varese</td>\n      <td>1.0</td>\n      <td>Agra</td>\n      <td>12001.0</td>\n      <td>1.200100e+11</td>\n      <td>2.0</td>\n      <td>0.0</td>\n      <td>...</td>\n      <td>9.0</td>\n      <td>11.0</td>\n      <td>0.0</td>\n      <td>0.0</td>\n      <td>1.0</td>\n      <td>120.0</td>\n      <td>16.0</td>\n      <td>33.0</td>\n      <td>6.0</td>\n      <td>0.0</td>\n    </tr>\n    <tr>\n      <th>2</th>\n      <td>3.0</td>\n      <td>Lombardia</td>\n      <td>12.0</td>\n      <td>Varese</td>\n      <td>1.0</td>\n      <td>Agra</td>\n      <td>12001.0</td>\n      <td>1.200100e+11</td>\n      <td>3.0</td>\n      <td>0.0</td>\n      <td>...</td>\n      <td>4.0</td>\n      <td>0.0</td>\n      <td>0.0</td>\n      <td>0.0</td>\n      <td>0.0</td>\n      <td>18.0</td>\n      <td>6.0</td>\n      <td>8.0</td>\n      <td>0.0</td>\n      <td>0.0</td>\n    </tr>\n    <tr>\n      <th>3</th>\n      <td>3.0</td>\n      <td>Lombardia</td>\n      <td>12.0</td>\n      <td>Varese</td>\n      <td>1.0</td>\n      <td>Agra</td>\n      <td>12001.0</td>\n      <td>1.200100e+11</td>\n      <td>7.0</td>\n      <td>0.0</td>\n      <td>...</td>\n      <td>1.0</td>\n      <td>0.0</td>\n      <td>0.0</td>\n      <td>0.0</td>\n      <td>0.0</td>\n      <td>8.0</td>\n      <td>1.0</td>\n      <td>5.0</td>\n      <td>1.0</td>\n      <td>0.0</td>\n    </tr>\n    <tr>\n      <th>4</th>\n      <td>3.0</td>\n      <td>Lombardia</td>\n      <td>12.0</td>\n      <td>Varese</td>\n      <td>1.0</td>\n      <td>Agra</td>\n      <td>12001.0</td>\n      <td>1.200100e+11</td>\n      <td>10.0</td>\n      <td>0.0</td>\n      <td>...</td>\n      <td>10.0</td>\n      <td>2.0</td>\n      <td>0.0</td>\n      <td>0.0</td>\n      <td>0.0</td>\n      <td>39.0</td>\n      <td>6.0</td>\n      <td>16.0</td>\n      <td>3.0</td>\n      <td>0.0</td>\n    </tr>\n  </tbody>\n</table>\n<p>5 rows × 152 columns</p>\n</div>"
     },
     "execution_count": 8,
     "metadata": {},
     "output_type": "execute_result"
    }
   ],
   "source": [
    "data = csv_df.head()\n",
    "data = data.replace('NaN', None)\n",
    "print(type(data))\n",
    "print(data.dtypes)\n",
    "data"
   ],
   "metadata": {
    "collapsed": false
   }
  }
 ],
 "metadata": {
  "kernelspec": {
   "display_name": "Python 3",
   "language": "python",
   "name": "python3"
  },
  "language_info": {
   "codemirror_mode": {
    "name": "ipython",
    "version": 2
   },
   "file_extension": ".py",
   "mimetype": "text/x-python",
   "name": "python",
   "nbconvert_exporter": "python",
   "pygments_lexer": "ipython2",
   "version": "2.7.6"
  }
 },
 "nbformat": 4,
 "nbformat_minor": 0
}
